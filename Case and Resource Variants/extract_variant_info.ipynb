{
 "cells": [
  {
   "metadata": {
    "ExecuteTime": {
     "end_time": "2025-05-19T11:31:01.665425Z",
     "start_time": "2025-05-19T11:29:31.727195Z"
    }
   },
   "cell_type": "code",
   "outputs": [
    {
     "name": "stderr",
     "output_type": "stream",
     "text": [
      "parsing log, completed traces :: 100%|██████████| 251734/251734 [01:10<00:00, 3549.24it/s]\n"
     ]
    },
    {
     "name": "stdout",
     "output_type": "stream",
     "text": [
      "Variants: 11973\n",
      "Cases: 251734\n",
      "Variant-to-case ratio: 0.0476\n"
     ]
    }
   ],
   "execution_count": 15,
   "source": [
    "from pm4py.objects.log.importer.xes import importer as xes_importer\n",
    "from pm4py.statistics.traces.generic.log import case_statistics\n",
    "\n",
    "# Import the event log\n",
    "log = xes_importer.apply(\"/Users/6706363/Downloads/BPI_Challenge_2019.xes\")\n",
    "\n",
    "# Get variant statistics (variant name and case count)\n",
    "variant_stats = case_statistics.get_variant_statistics(log)\n",
    "\n",
    "# Number of unique variants\n",
    "num_variants = len(variant_stats)\n",
    "\n",
    "# Number of total cases\n",
    "num_cases = len(log)\n",
    "\n",
    "# Compute variant-to-case ratio\n",
    "variant_case_ratio = num_variants / num_cases\n",
    "\n",
    "print(f\"Variants: {num_variants}\")\n",
    "print(f\"Cases: {num_cases}\")\n",
    "print(f\"Variant-to-case ratio: {variant_case_ratio:.4f}\")\n"
   ],
   "id": "1698213736507d40"
  },
  {
   "metadata": {
    "ExecuteTime": {
     "end_time": "2025-05-19T11:44:11.627059Z",
     "start_time": "2025-05-19T11:43:04.510740Z"
    }
   },
   "cell_type": "code",
   "source": [
    "from pm4py.objects.log.importer.xes import importer as xes_importer\n",
    "from pm4py.statistics.traces.generic.log import case_statistics\n",
    "from pm4py.objects.log.obj import EventLog\n",
    "\n",
    "# Import the event log\n",
    "log = xes_importer.apply(\"/Users/6706363/Downloads/BPI_Challenge_2019.xes\")\n",
    "\n",
    "# Filter traces that have a resource assigned in the first event\n",
    "resource_traces = EventLog()\n",
    "resources = set()\n",
    "\n",
    "for trace in log:\n",
    "    if trace and \"org:resource\" in trace[0]:\n",
    "        resource_traces.append(trace)\n",
    "        resources.add(trace[0][\"org:resource\"])\n",
    "\n",
    "# Compute variant statistics on filtered log\n",
    "variant_stats = case_statistics.get_variant_statistics(resource_traces)\n",
    "\n",
    "num_variants = len(variant_stats)\n",
    "num_resources = len(resources)\n",
    "\n",
    "variant_resource_ratio = num_variants / num_resources if num_resources > 0 else 0\n",
    "\n",
    "print(f\"Variants (on resource traces): {num_variants}\")\n",
    "print(f\"Resources: {num_resources}\")\n",
    "print(f\"Variant-to-resource ratio: {variant_resource_ratio:.4f}\")"
   ],
   "id": "18ec1970e6f60bd4",
   "outputs": [
    {
     "name": "stderr",
     "output_type": "stream",
     "text": [
      "parsing log, completed traces :: 100%|██████████| 251734/251734 [00:50<00:00, 4983.65it/s]\n"
     ]
    },
    {
     "name": "stdout",
     "output_type": "stream",
     "text": [
      "Variants (on resource traces): 11973\n",
      "Resources: 356\n",
      "Variant-to-resource ratio: 33.6320\n"
     ]
    }
   ],
   "execution_count": 18
  },
  {
   "metadata": {
    "ExecuteTime": {
     "end_time": "2025-05-19T11:46:51.713867Z",
     "start_time": "2025-05-19T11:46:51.709453Z"
    }
   },
   "cell_type": "code",
   "source": [
    "print(f\"Total traces: {len(log)}\")\n",
    "print(f\"Traces with resource assigned: {len(resource_traces)}\")\n"
   ],
   "id": "c30105e24bcce029",
   "outputs": [
    {
     "name": "stdout",
     "output_type": "stream",
     "text": [
      "Total traces: 251734\n",
      "Traces with resource assigned: 251734\n"
     ]
    }
   ],
   "execution_count": 19
  }
 ],
 "metadata": {
  "kernelspec": {
   "display_name": "Python 3",
   "language": "python",
   "name": "python3"
  },
  "language_info": {
   "codemirror_mode": {
    "name": "ipython",
    "version": 2
   },
   "file_extension": ".py",
   "mimetype": "text/x-python",
   "name": "python",
   "nbconvert_exporter": "python",
   "pygments_lexer": "ipython2",
   "version": "2.7.6"
  }
 },
 "nbformat": 4,
 "nbformat_minor": 5
}
