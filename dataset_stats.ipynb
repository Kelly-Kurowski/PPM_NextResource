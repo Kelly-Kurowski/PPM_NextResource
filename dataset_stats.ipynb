{
 "cells": [
  {
   "cell_type": "code",
   "id": "initial_id",
   "metadata": {
    "collapsed": true,
    "ExecuteTime": {
     "end_time": "2025-04-08T15:24:12.042663Z",
     "start_time": "2025-04-08T15:24:09.172038Z"
    }
   },
   "source": [
    "import pm4py\n",
    "import numpy as np\n",
    "import pandas as pd\n",
    "from sklearn.preprocessing import LabelEncoder\n",
    "from sklearn.model_selection import GridSearchCV, train_test_split, cross_val_score\n",
    "from sklearn.ensemble import RandomForestClassifier\n",
    "from sklearn.metrics import accuracy_score\n",
    "from sklearn.metrics import precision_score, recall_score, f1_score"
   ],
   "outputs": [],
   "execution_count": 1
  },
  {
   "metadata": {
    "ExecuteTime": {
     "end_time": "2025-04-08T15:43:25.717269Z",
     "start_time": "2025-04-08T15:41:52.204593Z"
    }
   },
   "cell_type": "code",
   "source": [
    "def import_xes(file_path):\n",
    "    log = pm4py.read_xes(file_path)\n",
    "    event_log = pm4py.convert_to_dataframe(log)\n",
    "\n",
    "    return event_log\n",
    "\n",
    "event_log = import_xes(\"/Users/6706363/Downloads/BPI_Challenge_2019.xes\")\n"
   ],
   "id": "32ca3d6dd44b992e",
   "outputs": [
    {
     "name": "stderr",
     "output_type": "stream",
     "text": [
      "parsing log, completed traces :: 100%|██████████| 251734/251734 [00:53<00:00, 4730.67it/s]\n"
     ]
    }
   ],
   "execution_count": 8
  },
  {
   "metadata": {
    "ExecuteTime": {
     "end_time": "2025-04-08T15:43:26.472597Z",
     "start_time": "2025-04-08T15:43:25.742202Z"
    }
   },
   "cell_type": "code",
   "source": [
    "df = event_log[['case:concept:name', 'concept:name', 'org:resource', 'time:timestamp']]\n",
    "\n",
    "df = df.sort_values(by=['org:resource', 'time:timestamp'])\n",
    "\n",
    "df.head(n=20)"
   ],
   "id": "e4f4668100cb1199",
   "outputs": [
    {
     "data": {
      "text/plain": [
       "       case:concept:name               concept:name org:resource  \\\n",
       "118143  4507004931_00010     Vendor creates invoice         NONE   \n",
       "118144  4507004931_00010  Vendor creates debit memo         NONE   \n",
       "118153  4507004931_00020     Vendor creates invoice         NONE   \n",
       "118154  4507004931_00020  Vendor creates debit memo         NONE   \n",
       "118163  4507004931_00030     Vendor creates invoice         NONE   \n",
       "118164  4507004931_00030  Vendor creates debit memo         NONE   \n",
       "118173  4507004931_00040     Vendor creates invoice         NONE   \n",
       "118174  4507004931_00040  Vendor creates debit memo         NONE   \n",
       "118183  4507004931_00050     Vendor creates invoice         NONE   \n",
       "118184  4507004931_00050  Vendor creates debit memo         NONE   \n",
       "311462  4507014062_00010     Vendor creates invoice         NONE   \n",
       "311467  4507014062_00020     Vendor creates invoice         NONE   \n",
       "311472  4507014062_00030     Vendor creates invoice         NONE   \n",
       "311477  4507014062_00040     Vendor creates invoice         NONE   \n",
       "311482  4507014062_00050     Vendor creates invoice         NONE   \n",
       "311487  4507014062_00060     Vendor creates invoice         NONE   \n",
       "311492  4507014062_00070     Vendor creates invoice         NONE   \n",
       "311497  4507014062_00080     Vendor creates invoice         NONE   \n",
       "311502  4507014062_00090     Vendor creates invoice         NONE   \n",
       "19144   4507000647_00010  Vendor creates debit memo         NONE   \n",
       "\n",
       "                  time:timestamp  \n",
       "118143 1948-01-26 22:59:00+00:00  \n",
       "118144 1948-01-26 22:59:00+00:00  \n",
       "118153 1948-01-26 22:59:00+00:00  \n",
       "118154 1948-01-26 22:59:00+00:00  \n",
       "118163 1948-01-26 22:59:00+00:00  \n",
       "118164 1948-01-26 22:59:00+00:00  \n",
       "118173 1948-01-26 22:59:00+00:00  \n",
       "118174 1948-01-26 22:59:00+00:00  \n",
       "118183 1948-01-26 22:59:00+00:00  \n",
       "118184 1948-01-26 22:59:00+00:00  \n",
       "311462 1993-05-18 21:59:00+00:00  \n",
       "311467 1993-05-18 21:59:00+00:00  \n",
       "311472 1993-05-18 21:59:00+00:00  \n",
       "311477 1993-05-18 21:59:00+00:00  \n",
       "311482 1993-05-18 21:59:00+00:00  \n",
       "311487 1993-05-18 21:59:00+00:00  \n",
       "311492 1993-05-18 21:59:00+00:00  \n",
       "311497 1993-05-18 21:59:00+00:00  \n",
       "311502 1993-05-18 21:59:00+00:00  \n",
       "19144  2001-01-23 22:59:00+00:00  "
      ],
      "text/html": [
       "<div>\n",
       "<style scoped>\n",
       "    .dataframe tbody tr th:only-of-type {\n",
       "        vertical-align: middle;\n",
       "    }\n",
       "\n",
       "    .dataframe tbody tr th {\n",
       "        vertical-align: top;\n",
       "    }\n",
       "\n",
       "    .dataframe thead th {\n",
       "        text-align: right;\n",
       "    }\n",
       "</style>\n",
       "<table border=\"1\" class=\"dataframe\">\n",
       "  <thead>\n",
       "    <tr style=\"text-align: right;\">\n",
       "      <th></th>\n",
       "      <th>case:concept:name</th>\n",
       "      <th>concept:name</th>\n",
       "      <th>org:resource</th>\n",
       "      <th>time:timestamp</th>\n",
       "    </tr>\n",
       "  </thead>\n",
       "  <tbody>\n",
       "    <tr>\n",
       "      <th>118143</th>\n",
       "      <td>4507004931_00010</td>\n",
       "      <td>Vendor creates invoice</td>\n",
       "      <td>NONE</td>\n",
       "      <td>1948-01-26 22:59:00+00:00</td>\n",
       "    </tr>\n",
       "    <tr>\n",
       "      <th>118144</th>\n",
       "      <td>4507004931_00010</td>\n",
       "      <td>Vendor creates debit memo</td>\n",
       "      <td>NONE</td>\n",
       "      <td>1948-01-26 22:59:00+00:00</td>\n",
       "    </tr>\n",
       "    <tr>\n",
       "      <th>118153</th>\n",
       "      <td>4507004931_00020</td>\n",
       "      <td>Vendor creates invoice</td>\n",
       "      <td>NONE</td>\n",
       "      <td>1948-01-26 22:59:00+00:00</td>\n",
       "    </tr>\n",
       "    <tr>\n",
       "      <th>118154</th>\n",
       "      <td>4507004931_00020</td>\n",
       "      <td>Vendor creates debit memo</td>\n",
       "      <td>NONE</td>\n",
       "      <td>1948-01-26 22:59:00+00:00</td>\n",
       "    </tr>\n",
       "    <tr>\n",
       "      <th>118163</th>\n",
       "      <td>4507004931_00030</td>\n",
       "      <td>Vendor creates invoice</td>\n",
       "      <td>NONE</td>\n",
       "      <td>1948-01-26 22:59:00+00:00</td>\n",
       "    </tr>\n",
       "    <tr>\n",
       "      <th>118164</th>\n",
       "      <td>4507004931_00030</td>\n",
       "      <td>Vendor creates debit memo</td>\n",
       "      <td>NONE</td>\n",
       "      <td>1948-01-26 22:59:00+00:00</td>\n",
       "    </tr>\n",
       "    <tr>\n",
       "      <th>118173</th>\n",
       "      <td>4507004931_00040</td>\n",
       "      <td>Vendor creates invoice</td>\n",
       "      <td>NONE</td>\n",
       "      <td>1948-01-26 22:59:00+00:00</td>\n",
       "    </tr>\n",
       "    <tr>\n",
       "      <th>118174</th>\n",
       "      <td>4507004931_00040</td>\n",
       "      <td>Vendor creates debit memo</td>\n",
       "      <td>NONE</td>\n",
       "      <td>1948-01-26 22:59:00+00:00</td>\n",
       "    </tr>\n",
       "    <tr>\n",
       "      <th>118183</th>\n",
       "      <td>4507004931_00050</td>\n",
       "      <td>Vendor creates invoice</td>\n",
       "      <td>NONE</td>\n",
       "      <td>1948-01-26 22:59:00+00:00</td>\n",
       "    </tr>\n",
       "    <tr>\n",
       "      <th>118184</th>\n",
       "      <td>4507004931_00050</td>\n",
       "      <td>Vendor creates debit memo</td>\n",
       "      <td>NONE</td>\n",
       "      <td>1948-01-26 22:59:00+00:00</td>\n",
       "    </tr>\n",
       "    <tr>\n",
       "      <th>311462</th>\n",
       "      <td>4507014062_00010</td>\n",
       "      <td>Vendor creates invoice</td>\n",
       "      <td>NONE</td>\n",
       "      <td>1993-05-18 21:59:00+00:00</td>\n",
       "    </tr>\n",
       "    <tr>\n",
       "      <th>311467</th>\n",
       "      <td>4507014062_00020</td>\n",
       "      <td>Vendor creates invoice</td>\n",
       "      <td>NONE</td>\n",
       "      <td>1993-05-18 21:59:00+00:00</td>\n",
       "    </tr>\n",
       "    <tr>\n",
       "      <th>311472</th>\n",
       "      <td>4507014062_00030</td>\n",
       "      <td>Vendor creates invoice</td>\n",
       "      <td>NONE</td>\n",
       "      <td>1993-05-18 21:59:00+00:00</td>\n",
       "    </tr>\n",
       "    <tr>\n",
       "      <th>311477</th>\n",
       "      <td>4507014062_00040</td>\n",
       "      <td>Vendor creates invoice</td>\n",
       "      <td>NONE</td>\n",
       "      <td>1993-05-18 21:59:00+00:00</td>\n",
       "    </tr>\n",
       "    <tr>\n",
       "      <th>311482</th>\n",
       "      <td>4507014062_00050</td>\n",
       "      <td>Vendor creates invoice</td>\n",
       "      <td>NONE</td>\n",
       "      <td>1993-05-18 21:59:00+00:00</td>\n",
       "    </tr>\n",
       "    <tr>\n",
       "      <th>311487</th>\n",
       "      <td>4507014062_00060</td>\n",
       "      <td>Vendor creates invoice</td>\n",
       "      <td>NONE</td>\n",
       "      <td>1993-05-18 21:59:00+00:00</td>\n",
       "    </tr>\n",
       "    <tr>\n",
       "      <th>311492</th>\n",
       "      <td>4507014062_00070</td>\n",
       "      <td>Vendor creates invoice</td>\n",
       "      <td>NONE</td>\n",
       "      <td>1993-05-18 21:59:00+00:00</td>\n",
       "    </tr>\n",
       "    <tr>\n",
       "      <th>311497</th>\n",
       "      <td>4507014062_00080</td>\n",
       "      <td>Vendor creates invoice</td>\n",
       "      <td>NONE</td>\n",
       "      <td>1993-05-18 21:59:00+00:00</td>\n",
       "    </tr>\n",
       "    <tr>\n",
       "      <th>311502</th>\n",
       "      <td>4507014062_00090</td>\n",
       "      <td>Vendor creates invoice</td>\n",
       "      <td>NONE</td>\n",
       "      <td>1993-05-18 21:59:00+00:00</td>\n",
       "    </tr>\n",
       "    <tr>\n",
       "      <th>19144</th>\n",
       "      <td>4507000647_00010</td>\n",
       "      <td>Vendor creates debit memo</td>\n",
       "      <td>NONE</td>\n",
       "      <td>2001-01-23 22:59:00+00:00</td>\n",
       "    </tr>\n",
       "  </tbody>\n",
       "</table>\n",
       "</div>"
      ]
     },
     "execution_count": 9,
     "metadata": {},
     "output_type": "execute_result"
    }
   ],
   "execution_count": 9
  },
  {
   "metadata": {
    "ExecuteTime": {
     "end_time": "2025-04-08T15:43:26.763494Z",
     "start_time": "2025-04-08T15:43:26.516044Z"
    }
   },
   "cell_type": "code",
   "source": [
    "# Count unique resources\n",
    "unique_resources = df['org:resource'].nunique()\n",
    "\n",
    "print(f\"Number of unique resources: {unique_resources}\")"
   ],
   "id": "d8b12533992da0bd",
   "outputs": [
    {
     "name": "stdout",
     "output_type": "stream",
     "text": [
      "Number of unique resources: 628\n"
     ]
    }
   ],
   "execution_count": 10
  },
  {
   "metadata": {
    "ExecuteTime": {
     "end_time": "2025-04-08T15:43:27.230713Z",
     "start_time": "2025-04-08T15:43:26.791159Z"
    }
   },
   "cell_type": "code",
   "source": [
    "# Group by 'org:resource' and count how many activities each resource has performed\n",
    "activity_counts = df.groupby('org:resource')['concept:name'].count()\n",
    "\n",
    "# Calculate average activity sequence length per resource\n",
    "average_activity_length = activity_counts.mean()\n",
    "\n",
    "print(f\"Average activity sequence length per resource: {average_activity_length}\")"
   ],
   "id": "6cbaace61db51b03",
   "outputs": [
    {
     "name": "stdout",
     "output_type": "stream",
     "text": [
      "Average activity sequence length per resource: 2541.2786624203823\n"
     ]
    }
   ],
   "execution_count": 11
  },
  {
   "metadata": {
    "ExecuteTime": {
     "end_time": "2025-04-08T15:43:28.595561Z",
     "start_time": "2025-04-08T15:43:27.238604Z"
    }
   },
   "cell_type": "code",
   "source": [
    "# Group by resource and get list of activities performed in order\n",
    "resource_activity_sequences = df.sort_values('time:timestamp').groupby('org:resource')['concept:name'].apply(list)\n",
    "\n",
    "# Function to count repetitions in a sequence\n",
    "def count_repetitions(activity_list):\n",
    "    from collections import Counter\n",
    "    counts = Counter(activity_list)\n",
    "    repetitions = sum(count - 1 for count in counts.values() if count > 1)\n",
    "    return repetitions\n",
    "\n",
    "# Apply repetition count to each resource's sequence\n",
    "repetition_counts = resource_activity_sequences.apply(count_repetitions)\n",
    "\n",
    "# Average repetition count per resource\n",
    "average_repetitions = repetition_counts.mean()\n",
    "\n",
    "print(f\"Average activity repetition per resource: {average_repetitions}\")"
   ],
   "id": "1bd1b3cd491ca8e4",
   "outputs": [
    {
     "name": "stdout",
     "output_type": "stream",
     "text": [
      "Average activity repetition per resource: 2538.457006369427\n"
     ]
    }
   ],
   "execution_count": 12
  },
  {
   "metadata": {
    "ExecuteTime": {
     "end_time": "2025-04-08T15:43:30.263675Z",
     "start_time": "2025-04-08T15:43:28.814824Z"
    }
   },
   "cell_type": "code",
   "source": [
    "import pandas as pd\n",
    "import numpy as np\n",
    "\n",
    "# Get the relative frequency of activities per resource\n",
    "activity_counts = df.groupby(['org:resource', 'concept:name']).size()\n",
    "total_counts = activity_counts.groupby('org:resource').transform('sum')\n",
    "probabilities = activity_counts / total_counts\n",
    "\n",
    "# Compute entropy per resource\n",
    "entropy = probabilities.groupby('org:resource').apply(lambda x: -np.sum(x * np.log2(x)))\n",
    "\n",
    "# Normalize by max entropy possible (log2 of number of unique activities)\n",
    "num_unique_acts = df.groupby('org:resource')['concept:name'].nunique()\n",
    "max_entropy = np.log2(num_unique_acts)\n",
    "\n",
    "# Avoid division by zero (when only 1 unique activity)\n",
    "max_entropy_replaced = max_entropy.replace(0, np.nan)\n",
    "normalized_entropy = entropy / max_entropy_replaced\n",
    "\n",
    "# Invert to get specialization score\n",
    "specialization_score = 1 - normalized_entropy\n",
    "\n",
    "# Treat resources with only 1 activity as fully specialized\n",
    "specialization_score = specialization_score.fillna(1.0)\n",
    "normalized_entropy = normalized_entropy.fillna(0.0)\n",
    "\n",
    "# Combine into DataFrame\n",
    "specialization_df = pd.DataFrame({\n",
    "    'entropy': entropy,\n",
    "    'normalized_entropy': normalized_entropy,\n",
    "    'specialization_score': specialization_score\n",
    "})\n",
    "\n",
    "print(specialization_df)\n",
    "\n",
    "# Calculate and print average specialization\n",
    "average_specialization = specialization_score.mean()\n",
    "print(f\"Average specialization across all resources: {average_specialization:.4f}\")\n"
   ],
   "id": "fd3f718095e610e",
   "outputs": [
    {
     "name": "stdout",
     "output_type": "stream",
     "text": [
      "               entropy  normalized_entropy  specialization_score\n",
      "org:resource                                                    \n",
      "NONE          1.207015            0.603507              0.396493\n",
      "batch_00      3.223846            0.773118              0.226882\n",
      "batch_01      0.867767            0.867767              0.132233\n",
      "batch_02      1.616886            0.625497              0.374503\n",
      "batch_03      1.020293            0.643733              0.356267\n",
      "...                ...                 ...                   ...\n",
      "user_602      1.077512            0.538756              0.461244\n",
      "user_603     -0.000000            0.000000              1.000000\n",
      "user_604     -0.000000            0.000000              1.000000\n",
      "user_605      1.419556            0.895640              0.104360\n",
      "user_606     -0.000000            0.000000              1.000000\n",
      "\n",
      "[628 rows x 3 columns]\n",
      "Average specialization across all resources: 0.7830\n"
     ]
    }
   ],
   "execution_count": 13
  },
  {
   "metadata": {},
   "cell_type": "code",
   "outputs": [],
   "execution_count": null,
   "source": "",
   "id": "3de9b83546fbb66f"
  }
 ],
 "metadata": {
  "kernelspec": {
   "display_name": "Python 3",
   "language": "python",
   "name": "python3"
  },
  "language_info": {
   "codemirror_mode": {
    "name": "ipython",
    "version": 2
   },
   "file_extension": ".py",
   "mimetype": "text/x-python",
   "name": "python",
   "nbconvert_exporter": "python",
   "pygments_lexer": "ipython2",
   "version": "2.7.6"
  }
 },
 "nbformat": 4,
 "nbformat_minor": 5
}
