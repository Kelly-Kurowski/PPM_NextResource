{
 "cells": [
  {
   "cell_type": "code",
   "id": "initial_id",
   "metadata": {
    "collapsed": true
   },
   "source": [
    "import pm4py\n",
    "import numpy as np\n",
    "import pandas as pd\n",
    "from sklearn.preprocessing import LabelEncoder\n",
    "from sklearn.model_selection import GridSearchCV, train_test_split, cross_val_score\n",
    "from sklearn.ensemble import RandomForestClassifier\n",
    "from sklearn.metrics import accuracy_score\n",
    "from sklearn.metrics import precision_score, recall_score, f1_score"
   ],
   "outputs": [],
   "execution_count": null
  },
  {
   "metadata": {},
   "cell_type": "code",
   "source": [
    "def import_xes(file_path):\n",
    "    log = pm4py.read_xes(file_path)\n",
    "    event_log = pm4py.convert_to_dataframe(log)\n",
    "\n",
    "    return event_log\n",
    "\n",
    "event_log = import_xes(\"/Users/6706363/Downloads/BPI_Challenge_2019.xes\")\n"
   ],
   "id": "32ca3d6dd44b992e",
   "outputs": [],
   "execution_count": null
  },
  {
   "metadata": {},
   "cell_type": "code",
   "source": [
    "df = event_log[['case:concept:name', 'concept:name', 'org:resource', 'time:timestamp']]\n",
    "\n",
    "df = df.sort_values(by=['org:resource', 'time:timestamp'])\n",
    "\n",
    "df.head(n=20)"
   ],
   "id": "e4f4668100cb1199",
   "outputs": [],
   "execution_count": null
  },
  {
   "metadata": {},
   "cell_type": "code",
   "source": [
    "# Count unique resources\n",
    "unique_resources = df['org:resource'].nunique()\n",
    "\n",
    "print(f\"Number of unique resources: {unique_resources}\")"
   ],
   "id": "d8b12533992da0bd",
   "outputs": [],
   "execution_count": null
  },
  {
   "metadata": {},
   "cell_type": "code",
   "source": [
    "# Group by 'org:resource' and count how many activities each resource has performed\n",
    "activity_counts = df.groupby('org:resource')['concept:name'].count()\n",
    "\n",
    "# Calculate average activity sequence length per resource\n",
    "average_activity_length = activity_counts.mean()\n",
    "\n",
    "print(f\"Average activity sequence length per resource: {average_activity_length}\")"
   ],
   "id": "6cbaace61db51b03",
   "outputs": [],
   "execution_count": null
  },
  {
   "metadata": {},
   "cell_type": "code",
   "source": [
    "# Group by resource and get list of activities performed in order\n",
    "resource_activity_sequences = df.sort_values('time:timestamp').groupby('org:resource')['concept:name'].apply(list)\n",
    "\n",
    "# Function to count repetitions in a sequence\n",
    "def count_repetitions(activity_list):\n",
    "    from collections import Counter\n",
    "    counts = Counter(activity_list)\n",
    "    repetitions = sum(count - 1 for count in counts.values() if count > 1)\n",
    "    return repetitions\n",
    "\n",
    "# Apply repetition count to each resource's sequence\n",
    "repetition_counts = resource_activity_sequences.apply(count_repetitions)\n",
    "\n",
    "# Average repetition count per resource\n",
    "average_repetitions = repetition_counts.mean()\n",
    "\n",
    "print(f\"Average activity repetition per resource: {average_repetitions}\")"
   ],
   "id": "1bd1b3cd491ca8e4",
   "outputs": [],
   "execution_count": null
  },
  {
   "metadata": {},
   "cell_type": "code",
   "source": [
    "import pandas as pd\n",
    "import numpy as np\n",
    "\n",
    "# Get the relative frequency of activities per resource\n",
    "activity_counts = df.groupby(['org:resource', 'concept:name']).size()\n",
    "total_counts = activity_counts.groupby('org:resource').transform('sum')\n",
    "probabilities = activity_counts / total_counts\n",
    "\n",
    "# Compute entropy per resource\n",
    "entropy = probabilities.groupby('org:resource').apply(lambda x: -np.sum(x * np.log2(x)))\n",
    "\n",
    "# Normalize by max entropy possible (log2 of number of unique activities)\n",
    "num_unique_acts = df.groupby('org:resource')['concept:name'].nunique()\n",
    "max_entropy = np.log2(num_unique_acts)\n",
    "\n",
    "# Avoid division by zero (when only 1 unique activity)\n",
    "max_entropy_replaced = max_entropy.replace(0, np.nan)\n",
    "normalized_entropy = entropy / max_entropy_replaced\n",
    "\n",
    "# Invert to get specialization score\n",
    "specialization_score = 1 - normalized_entropy\n",
    "\n",
    "# Treat resources with only 1 activity as fully specialized\n",
    "specialization_score = specialization_score.fillna(1.0)\n",
    "normalized_entropy = normalized_entropy.fillna(0.0)\n",
    "\n",
    "# Combine into DataFrame\n",
    "specialization_df = pd.DataFrame({\n",
    "    'entropy': entropy,\n",
    "    'normalized_entropy': normalized_entropy,\n",
    "    'specialization_score': specialization_score\n",
    "})\n",
    "\n",
    "print(specialization_df)\n",
    "\n",
    "# Calculate and print average specialization\n",
    "average_specialization = specialization_score.mean()\n",
    "print(f\"Average specialization across all resources: {average_specialization:.4f}\")\n"
   ],
   "id": "fd3f718095e610e",
   "outputs": [],
   "execution_count": null
  }
 ],
 "metadata": {
  "kernelspec": {
   "display_name": "Python 3",
   "language": "python",
   "name": "python3"
  },
  "language_info": {
   "codemirror_mode": {
    "name": "ipython",
    "version": 2
   },
   "file_extension": ".py",
   "mimetype": "text/x-python",
   "name": "python",
   "nbconvert_exporter": "python",
   "pygments_lexer": "ipython2",
   "version": "2.7.6"
  }
 },
 "nbformat": 4,
 "nbformat_minor": 5
}
