{
 "cells": [
  {
   "cell_type": "code",
   "execution_count": null,
   "id": "initial_id",
   "metadata": {
    "collapsed": true
   },
   "outputs": [],
   "source": [
    "import seaborn as sns\n",
    "import matplotlib.pyplot as plt\n",
    "import pandas as pd\n",
    "import os\n",
    "\n",
    "# Data BPIC2013 Random Forrest\n",
    "prefixes = [10, 20, 30, 40, 50, 75, 100, 125, 150]\n",
    "\n",
    "accuracy_encoding_1 = [0.7143, 0.6700, 0.7125, 0.6765, 0.6780, 0.6889, 0.6944, 0.6333, 0.5417]\n",
    "accuracy_encoding_2 = [0.7071, 0.6700, 0.7125, 0.6618, 0.6780, 0.6889, 0.6944, 0.6667, 0.5833]\n",
    "accuracy_encoding_3 = [0.9429, 0.7400, 0.6875, 0.6471, 0.7119, 0.6444, 0.6944, 0.6667, 0.6250]\n",
    "accuracy_encoding_4 = [0.9357, 0.8300, 0.7000, 0.6912, 0.7797, 0.6776, 0.6944, 0.6841, 0.6667]\n",
    "\n",
    "# Create DataFrame\n",
    "df = pd.DataFrame({\n",
    "    \"Prefix Length\": prefixes * 4,\n",
    "    \"Accuracy\": accuracy_encoding_1 + accuracy_encoding_2 + accuracy_encoding_3 + accuracy_encoding_4,\n",
    "    \"Encoding\": [\"Encoding 1\"] * len(prefixes) + [\"Encoding 2\"] * len(prefixes) +\n",
    "                [\"Encoding 3\"] * len(prefixes) + [\"Encoding 4\"] * len(prefixes)\n",
    "})\n",
    "\n",
    "\n",
    "\n"
   ]
  },
  {
   "metadata": {},
   "cell_type": "code",
   "outputs": [],
   "execution_count": null,
   "source": [
    "# Data BPIC2013 LSTM\n",
    "prefixes = [10, 20, 30, 40, 50, 75, 100, 125, 150]\n",
    "\n",
    "accuracy_encoding_1 = [0.7087, 0.6809, 0.6899, 0.6803, 0.6854, 0.6781, 0.7044, 0.7094, 0.5959]\n",
    "accuracy_encoding_2 = [0.7068, 0.6835, 0.6867, 0.6803, 0.6767, 0.6781, 0.7044, 0.7007, 0.6064]\n",
    "accuracy_encoding_3 = [0.9874, 0.9272, 0.6613, 0.6697, 0.7151, 0.6551, 0.7042, 0.6667, 0.6064]\n",
    "accuracy_encoding_4 = [0.9748, 0.9599, 0.7058, 0.6879, 0.7151, 0.6610, 0.7113, 0.6667, 0.6064]\n",
    "\n",
    "# Create DataFrame\n",
    "df = pd.DataFrame({\n",
    "    \"Prefix Length\": prefixes * 4,\n",
    "    \"Accuracy\": accuracy_encoding_1 + accuracy_encoding_2 + accuracy_encoding_3 + accuracy_encoding_4,\n",
    "    \"Encoding\": [\"Encoding 1\"] * len(prefixes) + [\"Encoding 2\"] * len(prefixes) +\n",
    "                [\"Encoding 3\"] * len(prefixes) + [\"Encoding 4\"] * len(prefixes)\n",
    "})"
   ],
   "id": "f9c2dcf736050144"
  },
  {
   "metadata": {},
   "cell_type": "code",
   "outputs": [],
   "execution_count": null,
   "source": [
    "\n",
    "# Data BPIC2013 Transformer\n",
    "prefixes = [10, 20, 30, 40, 50, 75, 100, 125, 150]\n",
    "\n",
    "accuracy_encoding_1 = [0.7143, 0.6900, 0.6500, 0.5735, 0.6271, 0.4839, 0.6667, 0.5000, 0.3750]\n",
    "accuracy_encoding_2 = [0.7286, 0.6600, 0.6000, 0.6471, 0.5763, 0.4889, 0.6389, 0.4333, 0.5000]\n",
    "accuracy_encoding_3 = [0.9500, 0.7000, 0.6000, 0.5735, 0.5424, 0.6444, 0.6667, 0.6000, 0.3750]\n",
    "accuracy_encoding_4 = [0.8643, 0.6700, 0.5250, 0.6324, 0.6949, 0.6889, 0.6944, 0.5667, 0.6250]\n",
    "\n",
    "# Create DataFrame\n",
    "df = pd.DataFrame({\n",
    "    \"Prefix Length\": prefixes * 4,\n",
    "    \"Accuracy\": accuracy_encoding_1 + accuracy_encoding_2 + accuracy_encoding_3 + accuracy_encoding_4,\n",
    "    \"Encoding\": [\"Encoding 1\"] * len(prefixes) + [\"Encoding 2\"] * len(prefixes) +\n",
    "                [\"Encoding 3\"] * len(prefixes) + [\"Encoding 4\"] * len(prefixes)\n",
    "})\n"
   ],
   "id": "71d74fc59c993645"
  },
  {
   "metadata": {},
   "cell_type": "code",
   "outputs": [],
   "execution_count": null,
   "source": [
    "import seaborn as sns\n",
    "import matplotlib.pyplot as plt\n",
    "import pandas as pd\n",
    "import os\n",
    "\n",
    "# Data for BPIC2013 LightGBM\n",
    "prefixes = [10, 20, 30, 40, 50, 75, 100, 125, 150]\n",
    "\n",
    "accuracy_encoding_1 = [0.7000, 0.6700, 0.6750, 0.6471, 0.6610, 0.6667, 0.7222, 0.5667, 0.5417]\n",
    "accuracy_encoding_2 = [0.6786, 0.6900, 0.6750, 0.6471, 0.6610, 0.6667, 0.7222, 0.5667, 0.5417]\n",
    "accuracy_encoding_3 = [0.9714, 0.8200, 0.7750, 0.6912, 0.7458, 0.6222, 0.6944, 0.6333, 0.5833]\n",
    "accuracy_encoding_4 = [0.9635, 0.8400, 0.7750, 0.6912, 0.7288, 0.6552, 0.6944, 0.5357, 0.5833]\n",
    "\n",
    "# Create DataFrame\n",
    "df = pd.DataFrame({\n",
    "    \"Prefix Length\": prefixes * 4,\n",
    "    \"Accuracy\": accuracy_encoding_1 + accuracy_encoding_2 + accuracy_encoding_3 + accuracy_encoding_4,\n",
    "    \"Encoding\": [\"Encoding 1\"] * len(prefixes) + [\"Encoding 2\"] * len(prefixes) +\n",
    "                [\"Encoding 3\"] * len(prefixes) + [\"Encoding 4\"] * len(prefixes)\n",
    "})\n"
   ],
   "id": "e844257589ac78df"
  },
  {
   "metadata": {
    "ExecuteTime": {
     "end_time": "2025-05-06T13:21:41.260231Z",
     "start_time": "2025-05-06T13:21:41.009643Z"
    }
   },
   "cell_type": "code",
   "source": [
    "import pandas as pd\n",
    "import os\n",
    "import openpyxl\n",
    "\n",
    "# Define common prefixes\n",
    "prefixes = [10, 20, 30, 40, 50, 75, 100, 125, 150]\n",
    "\n",
    "# Define all model data\n",
    "model_data = {\n",
    "    \"Random Forest\": [\n",
    "        [0.7143, 0.6700, 0.7125, 0.6765, 0.6780, 0.6889, 0.6944, 0.6333, 0.5417],\n",
    "        [0.7071, 0.6700, 0.7125, 0.6618, 0.6780, 0.6889, 0.6944, 0.6667, 0.5833],\n",
    "        [0.9429, 0.7400, 0.6875, 0.6471, 0.7119, 0.6444, 0.6944, 0.6667, 0.6250],\n",
    "        [0.9357, 0.8300, 0.7000, 0.6912, 0.7797, 0.6776, 0.6944, 0.6841, 0.6667]\n",
    "    ],\n",
    "    \"LSTM\": [\n",
    "        [0.7087, 0.6809, 0.6899, 0.6803, 0.6854, 0.6781, 0.7044, 0.7094, 0.5959],\n",
    "        [0.7068, 0.6835, 0.6867, 0.6803, 0.6767, 0.6781, 0.7044, 0.7007, 0.6064],\n",
    "        [0.9874, 0.9272, 0.6613, 0.6697, 0.7151, 0.6551, 0.7042, 0.6667, 0.6064],\n",
    "        [0.9748, 0.9599, 0.7058, 0.6879, 0.7151, 0.6610, 0.7113, 0.6667, 0.6064]\n",
    "    ],\n",
    "    \"Transformer\": [\n",
    "        [0.7143, 0.6900, 0.6500, 0.5735, 0.6271, 0.4839, 0.6667, 0.5000, 0.3750],\n",
    "        [0.7286, 0.6600, 0.6000, 0.6471, 0.5763, 0.4889, 0.6389, 0.4333, 0.5000],\n",
    "        [0.9500, 0.7000, 0.6000, 0.5735, 0.5424, 0.6444, 0.6667, 0.6000, 0.3750],\n",
    "        [0.8643, 0.6700, 0.5250, 0.6324, 0.6949, 0.6889, 0.6944, 0.5667, 0.6250]\n",
    "    ],\n",
    "    \"LightGBM\": [\n",
    "        [0.7000, 0.6700, 0.6750, 0.6471, 0.6610, 0.6667, 0.7222, 0.5667, 0.5417],\n",
    "        [0.6786, 0.6900, 0.6750, 0.6471, 0.6610, 0.6667, 0.7222, 0.5667, 0.5417],\n",
    "        [0.9714, 0.8200, 0.7750, 0.6912, 0.7458, 0.6222, 0.6944, 0.6333, 0.5833],\n",
    "        [0.9635, 0.8400, 0.7750, 0.6912, 0.7288, 0.6552, 0.6944, 0.5357, 0.5833]\n",
    "    ]\n",
    "}\n",
    "\n",
    "# Build a combined DataFrame\n",
    "rows = []\n",
    "for model_name, encodings in model_data.items():\n",
    "    for encoding_idx, accuracy_list in enumerate(encodings, start=1):\n",
    "        for prefix, acc in zip(prefixes, accuracy_list):\n",
    "            rows.append({\n",
    "                \"Model\": model_name,\n",
    "                \"Encoding\": f\"Encoding {encoding_idx}\",\n",
    "                \"Prefix Length\": prefix,\n",
    "                \"Accuracy\": acc\n",
    "            })\n",
    "\n",
    "df_all = pd.DataFrame(rows)\n",
    "\n",
    "# Save to Excel\n",
    "output_path = \"bpic2013_all_models.xlsx\"\n",
    "df_all.to_excel(output_path, index=False)\n",
    "\n",
    "print(f\"Excel file saved to: {output_path}\")\n"
   ],
   "id": "65f4649452d90878",
   "outputs": [
    {
     "name": "stdout",
     "output_type": "stream",
     "text": [
      "Excel file saved to: bpic2013_all_models.xlsx\n"
     ]
    }
   ],
   "execution_count": 2
  },
  {
   "metadata": {},
   "cell_type": "code",
   "outputs": [],
   "execution_count": null,
   "source": "",
   "id": "8a43b32d66034771"
  }
 ],
 "metadata": {
  "kernelspec": {
   "display_name": "Python 3",
   "language": "python",
   "name": "python3"
  },
  "language_info": {
   "codemirror_mode": {
    "name": "ipython",
    "version": 2
   },
   "file_extension": ".py",
   "mimetype": "text/x-python",
   "name": "python",
   "nbconvert_exporter": "python",
   "pygments_lexer": "ipython2",
   "version": "2.7.6"
  }
 },
 "nbformat": 4,
 "nbformat_minor": 5
}
