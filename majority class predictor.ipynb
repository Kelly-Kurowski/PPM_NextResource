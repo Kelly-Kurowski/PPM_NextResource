{
 "cells": [
  {
   "cell_type": "code",
   "id": "initial_id",
   "metadata": {
    "collapsed": true
   },
   "source": "import pm4py",
   "outputs": [],
   "execution_count": null
  },
  {
   "metadata": {
    "ExecuteTime": {
     "end_time": "2025-05-12T12:55:43.860800Z",
     "start_time": "2025-05-12T12:55:36.786479Z"
    }
   },
   "cell_type": "code",
   "source": [
    "def import_xes(file_path):\n",
    "    log = pm4py.read_xes(file_path)\n",
    "    event_log = pm4py.convert_to_dataframe(log)\n",
    "\n",
    "    return event_log\n",
    "\n",
    "event_log = import_xes(\"/Users/6706363/Downloads/BPI_Challenge_2013_incidents.xes\")"
   ],
   "id": "f14b9e1a404a451",
   "outputs": [
    {
     "name": "stderr",
     "output_type": "stream",
     "text": [
      "parsing log, completed traces :: 100%|██████████| 7554/7554 [00:03<00:00, 2244.00it/s]\n"
     ]
    }
   ],
   "execution_count": 36
  },
  {
   "metadata": {
    "ExecuteTime": {
     "end_time": "2025-05-12T12:55:43.944321Z",
     "start_time": "2025-05-12T12:55:43.877675Z"
    }
   },
   "cell_type": "code",
   "source": [
    "df = event_log[['case:concept:name', 'concept:name', 'org:resource', 'time:timestamp']]\n",
    "\n",
    "df = df.sort_values(by=['case:concept:name', 'time:timestamp'])\n",
    "\n",
    "df.head(10)"
   ],
   "id": "2aca6616ffd200e1",
   "outputs": [
    {
     "data": {
      "text/plain": [
       "  case:concept:name concept:name org:resource            time:timestamp\n",
       "0       1-364285768     Accepted     Frederic 2010-03-31 16:59:42+00:00\n",
       "1       1-364285768     Accepted     Frederic 2010-03-31 17:00:56+00:00\n",
       "2       1-364285768       Queued     Frederic 2010-03-31 17:45:48+00:00\n",
       "3       1-364285768     Accepted  Anne Claire 2010-04-06 16:44:07+00:00\n",
       "4       1-364285768       Queued  Anne Claire 2010-04-06 16:44:38+00:00\n",
       "5       1-364285768     Accepted  Anne Claire 2010-04-06 16:44:47+00:00\n",
       "6       1-364285768    Completed  Anne Claire 2010-04-06 16:44:51+00:00\n",
       "7       1-364285768       Queued  Anne Claire 2010-04-06 16:45:07+00:00\n",
       "8       1-364285768     Accepted         Eric 2010-04-08 12:52:23+00:00\n",
       "9       1-364285768       Queued         Eric 2010-04-08 12:53:35+00:00"
      ],
      "text/html": [
       "<div>\n",
       "<style scoped>\n",
       "    .dataframe tbody tr th:only-of-type {\n",
       "        vertical-align: middle;\n",
       "    }\n",
       "\n",
       "    .dataframe tbody tr th {\n",
       "        vertical-align: top;\n",
       "    }\n",
       "\n",
       "    .dataframe thead th {\n",
       "        text-align: right;\n",
       "    }\n",
       "</style>\n",
       "<table border=\"1\" class=\"dataframe\">\n",
       "  <thead>\n",
       "    <tr style=\"text-align: right;\">\n",
       "      <th></th>\n",
       "      <th>case:concept:name</th>\n",
       "      <th>concept:name</th>\n",
       "      <th>org:resource</th>\n",
       "      <th>time:timestamp</th>\n",
       "    </tr>\n",
       "  </thead>\n",
       "  <tbody>\n",
       "    <tr>\n",
       "      <th>0</th>\n",
       "      <td>1-364285768</td>\n",
       "      <td>Accepted</td>\n",
       "      <td>Frederic</td>\n",
       "      <td>2010-03-31 16:59:42+00:00</td>\n",
       "    </tr>\n",
       "    <tr>\n",
       "      <th>1</th>\n",
       "      <td>1-364285768</td>\n",
       "      <td>Accepted</td>\n",
       "      <td>Frederic</td>\n",
       "      <td>2010-03-31 17:00:56+00:00</td>\n",
       "    </tr>\n",
       "    <tr>\n",
       "      <th>2</th>\n",
       "      <td>1-364285768</td>\n",
       "      <td>Queued</td>\n",
       "      <td>Frederic</td>\n",
       "      <td>2010-03-31 17:45:48+00:00</td>\n",
       "    </tr>\n",
       "    <tr>\n",
       "      <th>3</th>\n",
       "      <td>1-364285768</td>\n",
       "      <td>Accepted</td>\n",
       "      <td>Anne Claire</td>\n",
       "      <td>2010-04-06 16:44:07+00:00</td>\n",
       "    </tr>\n",
       "    <tr>\n",
       "      <th>4</th>\n",
       "      <td>1-364285768</td>\n",
       "      <td>Queued</td>\n",
       "      <td>Anne Claire</td>\n",
       "      <td>2010-04-06 16:44:38+00:00</td>\n",
       "    </tr>\n",
       "    <tr>\n",
       "      <th>5</th>\n",
       "      <td>1-364285768</td>\n",
       "      <td>Accepted</td>\n",
       "      <td>Anne Claire</td>\n",
       "      <td>2010-04-06 16:44:47+00:00</td>\n",
       "    </tr>\n",
       "    <tr>\n",
       "      <th>6</th>\n",
       "      <td>1-364285768</td>\n",
       "      <td>Completed</td>\n",
       "      <td>Anne Claire</td>\n",
       "      <td>2010-04-06 16:44:51+00:00</td>\n",
       "    </tr>\n",
       "    <tr>\n",
       "      <th>7</th>\n",
       "      <td>1-364285768</td>\n",
       "      <td>Queued</td>\n",
       "      <td>Anne Claire</td>\n",
       "      <td>2010-04-06 16:45:07+00:00</td>\n",
       "    </tr>\n",
       "    <tr>\n",
       "      <th>8</th>\n",
       "      <td>1-364285768</td>\n",
       "      <td>Accepted</td>\n",
       "      <td>Eric</td>\n",
       "      <td>2010-04-08 12:52:23+00:00</td>\n",
       "    </tr>\n",
       "    <tr>\n",
       "      <th>9</th>\n",
       "      <td>1-364285768</td>\n",
       "      <td>Queued</td>\n",
       "      <td>Eric</td>\n",
       "      <td>2010-04-08 12:53:35+00:00</td>\n",
       "    </tr>\n",
       "  </tbody>\n",
       "</table>\n",
       "</div>"
      ]
     },
     "execution_count": 37,
     "metadata": {},
     "output_type": "execute_result"
    }
   ],
   "execution_count": 37
  },
  {
   "metadata": {
    "ExecuteTime": {
     "end_time": "2025-05-12T12:56:02.016304Z",
     "start_time": "2025-05-12T12:55:59.112195Z"
    }
   },
   "cell_type": "code",
   "source": [
    "import pandas as pd\n",
    "from sklearn.preprocessing import LabelEncoder\n",
    "from sklearn.dummy import DummyClassifier\n",
    "from sklearn.model_selection import train_test_split\n",
    "from sklearn.metrics import accuracy_score\n",
    "\n",
    "def create_activity_sequences(df, prefix_length):\n",
    "    sequences = []\n",
    "    next_activities = []\n",
    "    resources = []\n",
    "\n",
    "    for case_id, case_df in df.groupby('case:concept:name'):\n",
    "        activities = case_df['concept:name'].values\n",
    "        if len(activities) >= prefix_length + 1:\n",
    "            prefix = activities[:prefix_length]\n",
    "            next_activity = activities[prefix_length]\n",
    "            sequences.append(prefix)\n",
    "            next_activities.append(next_activity)\n",
    "            resources.append(case_id)\n",
    "\n",
    "    sequences_df = pd.DataFrame(sequences, columns=[f\"activity_{i + 1}\" for i in range(prefix_length)])\n",
    "    sequences_df['next_activity'] = next_activities\n",
    "    sequences_df['case:conept:name'] = resources\n",
    "    return sequences_df\n",
    "\n",
    "\n",
    "max_sequence_length = df.groupby('case:concept:name').size().max()\n",
    "print(f\"Maximum sequence length: {max_sequence_length}\")\n",
    "\n",
    "# --------------------------\n",
    "# Prefix lengths to test\n",
    "# --------------------------\n",
    "# prefix_lengths = [10, 20, 30, 40, 50, 75, 100, 125, 150] #for BPIC2013 resources\n",
    "prefix_lengths = [10, 15, 20, 25, 30, 35, 40, 45, 50] #for BPIC2013 cases\n",
    "\n",
    "# prefix_lengths = [100, 150, 200, 400, 600, 800, 1000, 1200, 1400, 1500, 2000] #for BPIC2017 resources\n",
    "# prefix_lengths = [10, 15, 20, 25, 30, 35, 40, 50, 60, 70, 80] #for BPIC2017 cases\n",
    "# prefix_lengths = [100, 150, 200, 400, 600, 800, 1000, 1200, 1400, 1500, 2000, 2500] #for BPIC2018 resources\n",
    "# prefix_lengths = [100, 125, 150, 175, 200, 225, 250, 300, 350, 400, 450, 500, 600] #for BPIC2018 cases \n",
    "# prefix_lengths = [100, 150, 200, 300, 400, 500, 600, 700, 800] #for BPIC2019 resources\n",
    "# prefix_lengths = [100, 125, 150, 175, 200, 225, 250, 300, 400] #for BPIC2019 cases\n",
    "\n",
    "\n",
    "results = []\n",
    "\n",
    "for prefix_length in prefix_lengths:\n",
    "    sequences_df = create_activity_sequences(df, prefix_length)\n",
    "\n",
    "    if sequences_df.empty:\n",
    "        print(f\"No valid sequences for prefix length {prefix_length}\")\n",
    "        results.append({'Prefix Length': prefix_length, 'Accuracy': None, 'Num Samples': 0})\n",
    "        continue\n",
    "\n",
    "    # Label encode activities\n",
    "    label_encoder = LabelEncoder()\n",
    "    all_activities = sequences_df[[f\"activity_{i+1}\" for i in range(prefix_length)] + ['next_activity']].values.flatten()\n",
    "    label_encoder.fit(all_activities)\n",
    "\n",
    "    for col in [f\"activity_{i+1}\" for i in range(prefix_length)] + ['next_activity']:\n",
    "        sequences_df[col] = label_encoder.transform(sequences_df[col])\n",
    "\n",
    "    # Define features and target\n",
    "    X = sequences_df[[f\"activity_{i+1}\" for i in range(prefix_length)]]\n",
    "    y = sequences_df['next_activity']\n",
    "\n",
    "    # Handle rare classes\n",
    "    rare_classes = y.value_counts()[y.value_counts() == 1].index.tolist()\n",
    "    if len(rare_classes) > 0:\n",
    "        y = y.replace(rare_classes, -1)\n",
    "\n",
    "    # Train/test split\n",
    "    X_train, X_test, y_train, y_test = train_test_split(X, y, test_size=0.2, random_state=42)\n",
    "\n",
    "    # Majority class predictor\n",
    "    dummy_clf = DummyClassifier(strategy=\"most_frequent\")\n",
    "    dummy_clf.fit(X_train, y_train)\n",
    "    y_pred = dummy_clf.predict(X_test)\n",
    "\n",
    "    # Accuracy\n",
    "    accuracy = accuracy_score(y_test, y_pred)\n",
    "\n",
    "    # Save results\n",
    "    results.append({\n",
    "        'Prefix Length': prefix_length,\n",
    "        'Accuracy': round(accuracy, 4),\n",
    "        'Num Samples': len(sequences_df)\n",
    "    })\n",
    "\n",
    "results_df = pd.DataFrame(results)\n",
    "results_df.to_excel(\"majority_class_accuracies_BPIC2013.xlsx\", index=False)\n",
    "\n",
    "print(\"Results saved to majority_class_accuracies.xlsx\")"
   ],
   "id": "4eb7a16e4fe93e64",
   "outputs": [
    {
     "name": "stdout",
     "output_type": "stream",
     "text": [
      "Maximum sequence length: 123\n",
      "Results saved to majority_class_accuracies.xlsx\n"
     ]
    }
   ],
   "execution_count": 38
  }
 ],
 "metadata": {
  "kernelspec": {
   "display_name": "Python 3",
   "language": "python",
   "name": "python3"
  },
  "language_info": {
   "codemirror_mode": {
    "name": "ipython",
    "version": 2
   },
   "file_extension": ".py",
   "mimetype": "text/x-python",
   "name": "python",
   "nbconvert_exporter": "python",
   "pygments_lexer": "ipython2",
   "version": "2.7.6"
  }
 },
 "nbformat": 4,
 "nbformat_minor": 5
}
