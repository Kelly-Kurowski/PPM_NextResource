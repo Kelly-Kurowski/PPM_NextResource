{
 "cells": [
  {
   "cell_type": "code",
   "id": "631123e1ee20e74c",
   "metadata": {
    "ExecuteTime": {
     "end_time": "2024-12-23T15:20:45.592189Z",
     "start_time": "2024-12-23T15:20:45.587088Z"
    }
   },
   "source": [
    "import pm4py\n",
    "import numpy as np\n",
    "import pandas as pd\n",
    "from sklearn.preprocessing import OneHotEncoder\n",
    "from keras.api.models import Sequential\n",
    "from keras.api.layers import Dense, LSTM\n",
    "from keras.api.callbacks import EarlyStopping\n",
    "from sklearn.model_selection import train_test_split\n",
    "\n"
   ],
   "outputs": [],
   "execution_count": 4
  },
  {
   "cell_type": "code",
   "id": "312aa6e965ec36da",
   "metadata": {
    "ExecuteTime": {
     "end_time": "2024-12-23T15:20:47.069067Z",
     "start_time": "2024-12-23T15:20:47.066062Z"
    }
   },
   "source": [
    "pd.set_option('display.max_columns', None)  # Display all columns\n",
    "pd.set_option('display.max_colwidth', None)  # Set no limit for column width"
   ],
   "outputs": [],
   "execution_count": 5
  },
  {
   "cell_type": "code",
   "id": "e987ce9af8b41e93",
   "metadata": {
    "ExecuteTime": {
     "end_time": "2024-12-23T15:21:51.865875Z",
     "start_time": "2024-12-23T15:20:48.102500Z"
    }
   },
   "source": [
    "def import_xes(file_path):\n",
    "    log = pm4py.read_xes(file_path)\n",
    "    event_log = pm4py.convert_to_dataframe(log)\n",
    "\n",
    "    return event_log\n",
    "\n",
    "event_log = import_xes(\"/Users/6706363/Downloads/BPI Challenge 2017.xes\")\n"
   ],
   "outputs": [
    {
     "name": "stderr",
     "output_type": "stream",
     "text": [
      "parsing log, completed traces :: 100%|██████████| 31509/31509 [00:40<00:00, 784.27it/s] \n"
     ]
    }
   ],
   "execution_count": 6
  },
  {
   "cell_type": "code",
   "id": "759904c2e9c2e744",
   "metadata": {
    "ExecuteTime": {
     "end_time": "2024-12-23T15:21:52.552167Z",
     "start_time": "2024-12-23T15:21:51.901346Z"
    }
   },
   "source": [
    "# Assuming event_log is your DataFrame\n",
    "df = event_log[['case:concept:name', 'concept:name', 'org:resource', 'time:timestamp']]\n",
    "\n",
    "# Sort by 'time:timestamp' and 'case:concept:name'\n",
    "df = df.sort_values(by=['case:concept:name', 'time:timestamp'])\n",
    "\n",
    "df.head(n=10)\n"
   ],
   "outputs": [
    {
     "data": {
      "text/plain": [
       "             case:concept:name            concept:name org:resource  \\\n",
       "686058  Application_1000086665    A_Create Application       User_1   \n",
       "686059  Application_1000086665             A_Submitted       User_1   \n",
       "686060  Application_1000086665          W_Handle leads       User_1   \n",
       "686061  Application_1000086665          W_Handle leads       User_1   \n",
       "686062  Application_1000086665  W_Complete application       User_1   \n",
       "686063  Application_1000086665               A_Concept       User_1   \n",
       "686064  Application_1000086665  W_Complete application      User_14   \n",
       "686065  Application_1000086665  W_Complete application      User_14   \n",
       "686066  Application_1000086665              A_Accepted       User_5   \n",
       "686067  Application_1000086665          O_Create Offer       User_5   \n",
       "\n",
       "                         time:timestamp  \n",
       "686058 2016-08-03 15:57:21.673000+00:00  \n",
       "686059 2016-08-03 15:57:21.734000+00:00  \n",
       "686060 2016-08-03 15:57:21.963000+00:00  \n",
       "686061 2016-08-03 15:58:28.286000+00:00  \n",
       "686062 2016-08-03 15:58:28.293000+00:00  \n",
       "686063 2016-08-03 15:58:28.299000+00:00  \n",
       "686064 2016-08-04 13:39:29.557000+00:00  \n",
       "686065 2016-08-04 13:50:12.281000+00:00  \n",
       "686066 2016-08-05 13:57:07.419000+00:00  \n",
       "686067 2016-08-05 13:59:57.320000+00:00  "
      ],
      "text/html": [
       "<div>\n",
       "<style scoped>\n",
       "    .dataframe tbody tr th:only-of-type {\n",
       "        vertical-align: middle;\n",
       "    }\n",
       "\n",
       "    .dataframe tbody tr th {\n",
       "        vertical-align: top;\n",
       "    }\n",
       "\n",
       "    .dataframe thead th {\n",
       "        text-align: right;\n",
       "    }\n",
       "</style>\n",
       "<table border=\"1\" class=\"dataframe\">\n",
       "  <thead>\n",
       "    <tr style=\"text-align: right;\">\n",
       "      <th></th>\n",
       "      <th>case:concept:name</th>\n",
       "      <th>concept:name</th>\n",
       "      <th>org:resource</th>\n",
       "      <th>time:timestamp</th>\n",
       "    </tr>\n",
       "  </thead>\n",
       "  <tbody>\n",
       "    <tr>\n",
       "      <th>686058</th>\n",
       "      <td>Application_1000086665</td>\n",
       "      <td>A_Create Application</td>\n",
       "      <td>User_1</td>\n",
       "      <td>2016-08-03 15:57:21.673000+00:00</td>\n",
       "    </tr>\n",
       "    <tr>\n",
       "      <th>686059</th>\n",
       "      <td>Application_1000086665</td>\n",
       "      <td>A_Submitted</td>\n",
       "      <td>User_1</td>\n",
       "      <td>2016-08-03 15:57:21.734000+00:00</td>\n",
       "    </tr>\n",
       "    <tr>\n",
       "      <th>686060</th>\n",
       "      <td>Application_1000086665</td>\n",
       "      <td>W_Handle leads</td>\n",
       "      <td>User_1</td>\n",
       "      <td>2016-08-03 15:57:21.963000+00:00</td>\n",
       "    </tr>\n",
       "    <tr>\n",
       "      <th>686061</th>\n",
       "      <td>Application_1000086665</td>\n",
       "      <td>W_Handle leads</td>\n",
       "      <td>User_1</td>\n",
       "      <td>2016-08-03 15:58:28.286000+00:00</td>\n",
       "    </tr>\n",
       "    <tr>\n",
       "      <th>686062</th>\n",
       "      <td>Application_1000086665</td>\n",
       "      <td>W_Complete application</td>\n",
       "      <td>User_1</td>\n",
       "      <td>2016-08-03 15:58:28.293000+00:00</td>\n",
       "    </tr>\n",
       "    <tr>\n",
       "      <th>686063</th>\n",
       "      <td>Application_1000086665</td>\n",
       "      <td>A_Concept</td>\n",
       "      <td>User_1</td>\n",
       "      <td>2016-08-03 15:58:28.299000+00:00</td>\n",
       "    </tr>\n",
       "    <tr>\n",
       "      <th>686064</th>\n",
       "      <td>Application_1000086665</td>\n",
       "      <td>W_Complete application</td>\n",
       "      <td>User_14</td>\n",
       "      <td>2016-08-04 13:39:29.557000+00:00</td>\n",
       "    </tr>\n",
       "    <tr>\n",
       "      <th>686065</th>\n",
       "      <td>Application_1000086665</td>\n",
       "      <td>W_Complete application</td>\n",
       "      <td>User_14</td>\n",
       "      <td>2016-08-04 13:50:12.281000+00:00</td>\n",
       "    </tr>\n",
       "    <tr>\n",
       "      <th>686066</th>\n",
       "      <td>Application_1000086665</td>\n",
       "      <td>A_Accepted</td>\n",
       "      <td>User_5</td>\n",
       "      <td>2016-08-05 13:57:07.419000+00:00</td>\n",
       "    </tr>\n",
       "    <tr>\n",
       "      <th>686067</th>\n",
       "      <td>Application_1000086665</td>\n",
       "      <td>O_Create Offer</td>\n",
       "      <td>User_5</td>\n",
       "      <td>2016-08-05 13:59:57.320000+00:00</td>\n",
       "    </tr>\n",
       "  </tbody>\n",
       "</table>\n",
       "</div>"
      ]
     },
     "execution_count": 7,
     "metadata": {},
     "output_type": "execute_result"
    }
   ],
   "execution_count": 7
  },
  {
   "cell_type": "code",
   "id": "9a688b0f242377e9",
   "metadata": {
    "ExecuteTime": {
     "end_time": "2024-12-23T15:21:55.239752Z",
     "start_time": "2024-12-23T15:21:52.615971Z"
    }
   },
   "source": [
    "def create_activity_resource_sequence(df, prefix_length):\n",
    "    sequences = []\n",
    "    grouped = df.groupby('case:concept:name')\n",
    "    \n",
    "    for _, group in grouped:\n",
    "        activities = group['concept:name'].tolist()\n",
    "        resources = group['org:resource'].tolist()\n",
    "        \n",
    "        # Only include sequences with length >= prefix_length\n",
    "        if len(activities) < prefix_length:\n",
    "            # Remove the sequence (skip appending it to the list)\n",
    "            continue\n",
    "        \n",
    "        # Truncate to the desired prefix length\n",
    "        current_activities = activities[:prefix_length]\n",
    "        current_resources = resources[:prefix_length]  # Include all resources\n",
    "        \n",
    "        # Combine activities and resources into tuples (no changes for the last activity)\n",
    "        sequence = []\n",
    "        for i in range(len(current_activities)):\n",
    "            # For all activities, include both activity and resource\n",
    "            sequence.append((current_activities[i], current_resources[i]))\n",
    "        \n",
    "        # Add the valid sequence to the list\n",
    "        sequences.append(sequence)\n",
    "    \n",
    "    return sequences\n",
    "\n",
    "# Example usage\n",
    "sequences = create_activity_resource_sequence(df, 4)\n",
    "\n",
    "# # Initialize a set to store unique 'R' values\n",
    "# unique_R = set()\n",
    "# \n",
    "# # Loop through the list of sequences and extract the 'R' values\n",
    "# for sequence in sequences:\n",
    "#     for item in sequence:\n",
    "#         # item[1] is the second element (the part with 'R')\n",
    "#         unique_R.add(item[1])\n",
    "# \n",
    "# # The length of the set will give the number of unique occurrences of 'R'\n",
    "# print(len(unique_R))"
   ],
   "outputs": [],
   "execution_count": 8
  },
  {
   "cell_type": "code",
   "id": "c77b67ef8b2d3ded",
   "metadata": {
    "ExecuteTime": {
     "end_time": "2024-12-23T15:22:53.913328Z",
     "start_time": "2024-12-23T15:21:55.271023Z"
    }
   },
   "source": [
    "#Prepare the list of activities and resources\n",
    "activities = []\n",
    "resources = []\n",
    "\n",
    "# Loop through sequences to gather activities and resources\n",
    "for seq in sequences:\n",
    "    for i, item in enumerate(seq):\n",
    "        activity, resource = item  # Each item is guaranteed to be (activity, resource)\n",
    "        activities.append(activity)\n",
    "        resources.append(resource)\n",
    "\n",
    "#Fit the OneHotEncoder to the unique activities and resources\n",
    "activity_encoder = OneHotEncoder() \n",
    "resource_encoder = OneHotEncoder()\n",
    "\n",
    "# Fit the encoder on unique activities and resources\n",
    "activity_encoder.fit([[activity] for activity in set(activities)])\n",
    "resource_encoder.fit([[resource] for resource in set(resources)])\n",
    "\n",
    "#Encode activities and resources\n",
    "encoded_sequences = []\n",
    "y_encoded = []  # List to store the one-hot encoded target resource for the last activity\n",
    "\n",
    "for seq in sequences:\n",
    "    activity_onehots = []\n",
    "    \n",
    "    # For each activity-resource pair, apply one-hot encoding\n",
    "    for i, item in enumerate(seq):\n",
    "        activity, resource = item\n",
    "        activity_onehot = activity_encoder.transform([[activity]]).toarray()\n",
    "        \n",
    "        # If it's the last item, we only encode the activity and store the resource for y\n",
    "        if i == len(seq) - 1:\n",
    "            # Add only the activity one-hot encoding\n",
    "            activity_onehots.append(activity_onehot)\n",
    "            # One-hot encode the resource and store it for prediction (y)\n",
    "            resource_onehot = resource_encoder.transform([[resource]]).toarray()\n",
    "            y_encoded.append(resource_onehot)  # Store the one-hot encoded resource\n",
    "        else:\n",
    "            # For all other activities, include both activity and resource one-hot encoding\n",
    "            resource_onehot = resource_encoder.transform([[resource]]).toarray()\n",
    "            encoded_sequence = np.hstack([activity_onehot, resource_onehot])\n",
    "            activity_onehots.append(encoded_sequence)\n",
    "    \n",
    "    # If there is more than one activity in the sequence, add the zero vector for the last resource\n",
    "    if len(seq) > 1:\n",
    "        last_activity_onehot = activity_onehots[-1]\n",
    "        last_resource_onehot = np.zeros(resource_onehot.shape)  # Zero vector for the last resource\n",
    "        activity_onehots[-1] = np.hstack([last_activity_onehot, last_resource_onehot])\n",
    "    \n",
    "    # Concatenate the encoded activities and resources for the full sequence\n",
    "    encoded_sequences.append(np.vstack(activity_onehots))\n",
    "\n",
    "X = np.array(encoded_sequences)\n",
    "y = np.array(y_encoded)\n",
    "\n",
    "print(X.shape)\n",
    "\n",
    "print(y.shape)\n"
   ],
   "outputs": [
    {
     "name": "stdout",
     "output_type": "stream",
     "text": [
      "(31509, 4, 121)\n",
      "(31509, 1, 116)\n"
     ]
    }
   ],
   "execution_count": 9
  },
  {
   "cell_type": "code",
   "id": "71821fafac1eca0f",
   "metadata": {
    "ExecuteTime": {
     "end_time": "2024-12-23T15:23:34.217071Z",
     "start_time": "2024-12-23T15:22:53.920669Z"
    }
   },
   "source": [
    "# Train-test split\n",
    "X_train, X_test, y_train, y_test = train_test_split(X, y, test_size=0.2, random_state=42)\n",
    "\n",
    "y_train = y_train.squeeze(axis=1)\n",
    "y_test = y_test.squeeze(axis=1)\n",
    "\n",
    "print(X_test.shape)\n",
    "print(y_test.shape)\n",
    "\n",
    "\n",
    "# Define the LSTM model\n",
    "model = Sequential()\n",
    "model.add(LSTM(50, activation='relu', return_sequences=True, input_shape=(X_train.shape[1], X_train.shape[2])))\n",
    "model.add(LSTM(50, return_sequences=True, activation='relu'))\n",
    "model.add(LSTM(50, activation='relu'))\n",
    "model.add(Dense(116, activation='softmax')) \n",
    "\n",
    "# Compile the model\n",
    "model.compile(optimizer='adam', loss='categorical_crossentropy', metrics=['accuracy', 'precision', 'recall'])\n",
    "\n",
    "early_stopping = EarlyStopping(monitor='val_loss', patience=5, restore_best_weights=True)\n",
    "# Train the model\n",
    "model.fit(X_train, y_train, epochs=50, batch_size=32, validation_data=(X_test, y_test), callbacks=[early_stopping])\n",
    "\n",
    "# Evaluate the model on the test set\n",
    "test_loss, test_accuracy, test_precision, test_recall = model.evaluate(X_test, y_test)\n",
    "print(f\"Test loss: {test_loss}\")\n",
    "print(f\"Test accuracy: {test_accuracy}\")\n",
    "print(f\"Test precision: {test_precision}\")\n",
    "print(f\"Test recall: {test_recall}\")\n",
    "\n",
    "\n"
   ],
   "outputs": [
    {
     "name": "stdout",
     "output_type": "stream",
     "text": [
      "(6302, 4, 121)\n",
      "(6302, 116)\n",
      "Epoch 1/50\n"
     ]
    },
    {
     "name": "stderr",
     "output_type": "stream",
     "text": [
      "/Library/Python/3.9/site-packages/keras/src/layers/rnn/rnn.py:200: UserWarning: Do not pass an `input_shape`/`input_dim` argument to a layer. When using Sequential models, prefer using an `Input(shape)` object as the first layer in the model instead.\n",
      "  super().__init__(**kwargs)\n"
     ]
    },
    {
     "name": "stdout",
     "output_type": "stream",
     "text": [
      "\u001B[1m788/788\u001B[0m \u001B[32m━━━━━━━━━━━━━━━━━━━━\u001B[0m\u001B[37m\u001B[0m \u001B[1m4s\u001B[0m 3ms/step - accuracy: 0.6295 - loss: 2.3238 - precision: 0.7969 - recall: 0.5059 - val_accuracy: 0.8651 - val_loss: 0.8540 - val_precision: 0.8759 - val_recall: 0.8634\n",
      "Epoch 2/50\n",
      "\u001B[1m788/788\u001B[0m \u001B[32m━━━━━━━━━━━━━━━━━━━━\u001B[0m\u001B[37m\u001B[0m \u001B[1m2s\u001B[0m 2ms/step - accuracy: 0.8635 - loss: 0.8377 - precision: 0.8719 - recall: 0.8590 - val_accuracy: 0.8748 - val_loss: 0.7970 - val_precision: 0.8772 - val_recall: 0.8742\n",
      "Epoch 3/50\n",
      "\u001B[1m788/788\u001B[0m \u001B[32m━━━━━━━━━━━━━━━━━━━━\u001B[0m\u001B[37m\u001B[0m \u001B[1m2s\u001B[0m 2ms/step - accuracy: 0.8782 - loss: 0.7678 - precision: 0.8801 - recall: 0.8771 - val_accuracy: 0.8764 - val_loss: 0.8014 - val_precision: 0.8775 - val_recall: 0.8762\n",
      "Epoch 4/50\n",
      "\u001B[1m788/788\u001B[0m \u001B[32m━━━━━━━━━━━━━━━━━━━━\u001B[0m\u001B[37m\u001B[0m \u001B[1m2s\u001B[0m 2ms/step - accuracy: 0.8816 - loss: 0.7542 - precision: 0.8819 - recall: 0.8813 - val_accuracy: 0.8767 - val_loss: 0.7890 - val_precision: 0.8775 - val_recall: 0.8765\n",
      "Epoch 5/50\n",
      "\u001B[1m788/788\u001B[0m \u001B[32m━━━━━━━━━━━━━━━━━━━━\u001B[0m\u001B[37m\u001B[0m \u001B[1m2s\u001B[0m 2ms/step - accuracy: 0.8825 - loss: 0.7413 - precision: 0.8829 - recall: 0.8825 - val_accuracy: 0.8769 - val_loss: 0.7923 - val_precision: 0.8774 - val_recall: 0.8767\n",
      "Epoch 6/50\n",
      "\u001B[1m788/788\u001B[0m \u001B[32m━━━━━━━━━━━━━━━━━━━━\u001B[0m\u001B[37m\u001B[0m \u001B[1m2s\u001B[0m 2ms/step - accuracy: 0.8767 - loss: 0.7693 - precision: 0.8770 - recall: 0.8759 - val_accuracy: 0.8767 - val_loss: 0.7788 - val_precision: 0.8775 - val_recall: 0.8767\n",
      "Epoch 7/50\n",
      "\u001B[1m788/788\u001B[0m \u001B[32m━━━━━━━━━━━━━━━━━━━━\u001B[0m\u001B[37m\u001B[0m \u001B[1m2s\u001B[0m 2ms/step - accuracy: 0.8835 - loss: 0.7383 - precision: 0.8839 - recall: 0.8835 - val_accuracy: 0.8775 - val_loss: 0.7827 - val_precision: 0.8776 - val_recall: 0.8769\n",
      "Epoch 8/50\n",
      "\u001B[1m788/788\u001B[0m \u001B[32m━━━━━━━━━━━━━━━━━━━━\u001B[0m\u001B[37m\u001B[0m \u001B[1m2s\u001B[0m 2ms/step - accuracy: 0.8821 - loss: 0.7426 - precision: 0.8822 - recall: 0.8820 - val_accuracy: 0.8775 - val_loss: 0.7798 - val_precision: 0.8776 - val_recall: 0.8770\n",
      "Epoch 9/50\n",
      "\u001B[1m788/788\u001B[0m \u001B[32m━━━━━━━━━━━━━━━━━━━━\u001B[0m\u001B[37m\u001B[0m \u001B[1m2s\u001B[0m 2ms/step - accuracy: 0.8834 - loss: 0.7406 - precision: 0.8835 - recall: 0.8832 - val_accuracy: 0.8748 - val_loss: 0.7839 - val_precision: 0.8751 - val_recall: 0.8724\n",
      "Epoch 10/50\n",
      "\u001B[1m788/788\u001B[0m \u001B[32m━━━━━━━━━━━━━━━━━━━━\u001B[0m\u001B[37m\u001B[0m \u001B[1m2s\u001B[0m 2ms/step - accuracy: 0.8832 - loss: 0.7415 - precision: 0.8832 - recall: 0.8825 - val_accuracy: 0.8775 - val_loss: 0.7766 - val_precision: 0.8776 - val_recall: 0.8775\n",
      "Epoch 11/50\n",
      "\u001B[1m788/788\u001B[0m \u001B[32m━━━━━━━━━━━━━━━━━━━━\u001B[0m\u001B[37m\u001B[0m \u001B[1m2s\u001B[0m 2ms/step - accuracy: 0.8823 - loss: 0.7358 - precision: 0.8824 - recall: 0.8823 - val_accuracy: 0.8777 - val_loss: 0.7771 - val_precision: 0.8776 - val_recall: 0.8775\n",
      "Epoch 12/50\n",
      "\u001B[1m788/788\u001B[0m \u001B[32m━━━━━━━━━━━━━━━━━━━━\u001B[0m\u001B[37m\u001B[0m \u001B[1m2s\u001B[0m 2ms/step - accuracy: 0.8792 - loss: 0.7589 - precision: 0.8792 - recall: 0.8791 - val_accuracy: 0.8777 - val_loss: 0.7979 - val_precision: 0.8776 - val_recall: 0.8775\n",
      "Epoch 13/50\n",
      "\u001B[1m788/788\u001B[0m \u001B[32m━━━━━━━━━━━━━━━━━━━━\u001B[0m\u001B[37m\u001B[0m \u001B[1m2s\u001B[0m 2ms/step - accuracy: 0.8817 - loss: 0.7432 - precision: 0.8819 - recall: 0.8813 - val_accuracy: 0.8777 - val_loss: 0.7791 - val_precision: 0.8776 - val_recall: 0.8775\n",
      "Epoch 14/50\n",
      "\u001B[1m788/788\u001B[0m \u001B[32m━━━━━━━━━━━━━━━━━━━━\u001B[0m\u001B[37m\u001B[0m \u001B[1m2s\u001B[0m 2ms/step - accuracy: 0.8848 - loss: 0.7279 - precision: 0.8848 - recall: 0.8847 - val_accuracy: 0.8777 - val_loss: 0.7763 - val_precision: 0.8777 - val_recall: 0.8777\n",
      "Epoch 15/50\n",
      "\u001B[1m788/788\u001B[0m \u001B[32m━━━━━━━━━━━━━━━━━━━━\u001B[0m\u001B[37m\u001B[0m \u001B[1m2s\u001B[0m 2ms/step - accuracy: 0.8851 - loss: 0.7228 - precision: 0.8851 - recall: 0.8851 - val_accuracy: 0.8777 - val_loss: 0.7777 - val_precision: 0.8777 - val_recall: 0.8777\n",
      "Epoch 16/50\n",
      "\u001B[1m788/788\u001B[0m \u001B[32m━━━━━━━━━━━━━━━━━━━━\u001B[0m\u001B[37m\u001B[0m \u001B[1m2s\u001B[0m 2ms/step - accuracy: 0.8832 - loss: 0.7402 - precision: 0.8832 - recall: 0.8832 - val_accuracy: 0.8777 - val_loss: 0.7768 - val_precision: 0.8777 - val_recall: 0.8777\n",
      "Epoch 17/50\n",
      "\u001B[1m788/788\u001B[0m \u001B[32m━━━━━━━━━━━━━━━━━━━━\u001B[0m\u001B[37m\u001B[0m \u001B[1m2s\u001B[0m 2ms/step - accuracy: 0.8821 - loss: 0.7439 - precision: 0.8821 - recall: 0.8821 - val_accuracy: 0.8777 - val_loss: 0.7765 - val_precision: 0.8777 - val_recall: 0.8777\n",
      "Epoch 18/50\n",
      "\u001B[1m788/788\u001B[0m \u001B[32m━━━━━━━━━━━━━━━━━━━━\u001B[0m\u001B[37m\u001B[0m \u001B[1m2s\u001B[0m 2ms/step - accuracy: 0.8844 - loss: 0.7324 - precision: 0.8844 - recall: 0.8844 - val_accuracy: 0.8777 - val_loss: 0.7821 - val_precision: 0.8777 - val_recall: 0.8777\n",
      "Epoch 19/50\n",
      "\u001B[1m788/788\u001B[0m \u001B[32m━━━━━━━━━━━━━━━━━━━━\u001B[0m\u001B[37m\u001B[0m \u001B[1m2s\u001B[0m 2ms/step - accuracy: 0.8804 - loss: 0.7482 - precision: 0.8806 - recall: 0.8802 - val_accuracy: 0.8773 - val_loss: 0.7777 - val_precision: 0.8775 - val_recall: 0.8772\n",
      "\u001B[1m197/197\u001B[0m \u001B[32m━━━━━━━━━━━━━━━━━━━━\u001B[0m\u001B[37m\u001B[0m \u001B[1m0s\u001B[0m 1ms/step - accuracy: 0.8781 - loss: 0.7732 - precision: 0.8781 - recall: 0.8781\n",
      "Test loss: 0.7762548923492432\n",
      "Test accuracy: 0.8776578903198242\n",
      "Test precision: 0.8776578903198242\n",
      "Test recall: 0.8776578903198242\n"
     ]
    }
   ],
   "execution_count": 10
  }
 ],
 "metadata": {
  "kernelspec": {
   "display_name": "Python 3 (ipykernel)",
   "language": "python",
   "name": "python3"
  },
  "language_info": {
   "codemirror_mode": {
    "name": "ipython",
    "version": 3
   },
   "file_extension": ".py",
   "mimetype": "text/x-python",
   "name": "python",
   "nbconvert_exporter": "python",
   "pygments_lexer": "ipython3",
   "version": "3.9.6"
  }
 },
 "nbformat": 4,
 "nbformat_minor": 5
}
