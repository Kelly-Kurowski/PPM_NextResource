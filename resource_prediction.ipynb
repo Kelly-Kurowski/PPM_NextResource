{
 "cells": [
  {
   "cell_type": "code",
   "execution_count": 1,
   "id": "631123e1ee20e74c",
   "metadata": {
    "ExecuteTime": {
     "end_time": "2024-12-23T12:43:17.839285Z",
     "start_time": "2024-12-23T12:43:11.814157Z"
    }
   },
   "outputs": [
    {
     "name": "stderr",
     "output_type": "stream",
     "text": [
      "/Users/6706363/Library/Python/3.9/lib/python/site-packages/urllib3/__init__.py:35: NotOpenSSLWarning: urllib3 v2 only supports OpenSSL 1.1.1+, currently the 'ssl' module is compiled with 'LibreSSL 2.8.3'. See: https://github.com/urllib3/urllib3/issues/3020\n",
      "  warnings.warn(\n"
     ]
    }
   ],
   "source": [
    "import pm4py\n",
    "import numpy as np\n",
    "import pandas as pd\n",
    "from sklearn.preprocessing import OneHotEncoder\n",
    "from keras.api.models import Sequential\n",
    "from keras.api.layers import Dense, LSTM\n",
    "from sklearn.model_selection import train_test_split\n"
   ]
  },
  {
   "cell_type": "code",
   "execution_count": 2,
   "id": "312aa6e965ec36da",
   "metadata": {
    "ExecuteTime": {
     "end_time": "2024-12-23T12:43:20.637182Z",
     "start_time": "2024-12-23T12:43:20.632930Z"
    }
   },
   "outputs": [],
   "source": [
    "pd.set_option('display.max_columns', None)  # Display all columns\n",
    "pd.set_option('display.max_colwidth', None)  # Set no limit for column width"
   ]
  },
  {
   "cell_type": "code",
   "execution_count": 15,
   "id": "e987ce9af8b41e93",
   "metadata": {
    "ExecuteTime": {
     "end_time": "2024-12-23T13:24:49.913061Z",
     "start_time": "2024-12-23T13:23:45.331379Z"
    }
   },
   "outputs": [
    {
     "name": "stderr",
     "output_type": "stream",
     "text": [
      "parsing log, completed traces :: 100%|██████████| 31509/31509 [00:41<00:00, 767.04it/s] \n"
     ]
    }
   ],
   "source": [
    "def import_xes(file_path):\n",
    "    log = pm4py.read_xes(file_path)\n",
    "    event_log = pm4py.convert_to_dataframe(log)\n",
    "\n",
    "    return event_log\n",
    "\n",
    "event_log = import_xes(\"Datasets/BPI Challenge 2017.xes\")\n"
   ]
  },
  {
   "cell_type": "code",
   "execution_count": 8,
   "id": "759904c2e9c2e744",
   "metadata": {
    "ExecuteTime": {
     "end_time": "2024-12-23T12:47:59.978091Z",
     "start_time": "2024-12-23T12:47:59.025963Z"
    }
   },
   "outputs": [
    {
     "data": {
      "text/html": [
       "<div>\n",
       "<style scoped>\n",
       "    .dataframe tbody tr th:only-of-type {\n",
       "        vertical-align: middle;\n",
       "    }\n",
       "\n",
       "    .dataframe tbody tr th {\n",
       "        vertical-align: top;\n",
       "    }\n",
       "\n",
       "    .dataframe thead th {\n",
       "        text-align: right;\n",
       "    }\n",
       "</style>\n",
       "<table border=\"1\" class=\"dataframe\">\n",
       "  <thead>\n",
       "    <tr style=\"text-align: right;\">\n",
       "      <th></th>\n",
       "      <th>case:concept:name</th>\n",
       "      <th>concept:name</th>\n",
       "      <th>org:resource</th>\n",
       "      <th>time:timestamp</th>\n",
       "    </tr>\n",
       "  </thead>\n",
       "  <tbody>\n",
       "    <tr>\n",
       "      <th>686058</th>\n",
       "      <td>Application_1000086665</td>\n",
       "      <td>A_Create Application</td>\n",
       "      <td>User_1</td>\n",
       "      <td>2016-08-03 15:57:21.673000+00:00</td>\n",
       "    </tr>\n",
       "    <tr>\n",
       "      <th>686059</th>\n",
       "      <td>Application_1000086665</td>\n",
       "      <td>A_Submitted</td>\n",
       "      <td>User_1</td>\n",
       "      <td>2016-08-03 15:57:21.734000+00:00</td>\n",
       "    </tr>\n",
       "    <tr>\n",
       "      <th>686060</th>\n",
       "      <td>Application_1000086665</td>\n",
       "      <td>W_Handle leads</td>\n",
       "      <td>User_1</td>\n",
       "      <td>2016-08-03 15:57:21.963000+00:00</td>\n",
       "    </tr>\n",
       "    <tr>\n",
       "      <th>686061</th>\n",
       "      <td>Application_1000086665</td>\n",
       "      <td>W_Handle leads</td>\n",
       "      <td>User_1</td>\n",
       "      <td>2016-08-03 15:58:28.286000+00:00</td>\n",
       "    </tr>\n",
       "    <tr>\n",
       "      <th>686062</th>\n",
       "      <td>Application_1000086665</td>\n",
       "      <td>W_Complete application</td>\n",
       "      <td>User_1</td>\n",
       "      <td>2016-08-03 15:58:28.293000+00:00</td>\n",
       "    </tr>\n",
       "    <tr>\n",
       "      <th>686063</th>\n",
       "      <td>Application_1000086665</td>\n",
       "      <td>A_Concept</td>\n",
       "      <td>User_1</td>\n",
       "      <td>2016-08-03 15:58:28.299000+00:00</td>\n",
       "    </tr>\n",
       "    <tr>\n",
       "      <th>686064</th>\n",
       "      <td>Application_1000086665</td>\n",
       "      <td>W_Complete application</td>\n",
       "      <td>User_14</td>\n",
       "      <td>2016-08-04 13:39:29.557000+00:00</td>\n",
       "    </tr>\n",
       "    <tr>\n",
       "      <th>686065</th>\n",
       "      <td>Application_1000086665</td>\n",
       "      <td>W_Complete application</td>\n",
       "      <td>User_14</td>\n",
       "      <td>2016-08-04 13:50:12.281000+00:00</td>\n",
       "    </tr>\n",
       "    <tr>\n",
       "      <th>686066</th>\n",
       "      <td>Application_1000086665</td>\n",
       "      <td>A_Accepted</td>\n",
       "      <td>User_5</td>\n",
       "      <td>2016-08-05 13:57:07.419000+00:00</td>\n",
       "    </tr>\n",
       "    <tr>\n",
       "      <th>686067</th>\n",
       "      <td>Application_1000086665</td>\n",
       "      <td>O_Create Offer</td>\n",
       "      <td>User_5</td>\n",
       "      <td>2016-08-05 13:59:57.320000+00:00</td>\n",
       "    </tr>\n",
       "  </tbody>\n",
       "</table>\n",
       "</div>"
      ],
      "text/plain": [
       "             case:concept:name            concept:name org:resource  \\\n",
       "686058  Application_1000086665    A_Create Application       User_1   \n",
       "686059  Application_1000086665             A_Submitted       User_1   \n",
       "686060  Application_1000086665          W_Handle leads       User_1   \n",
       "686061  Application_1000086665          W_Handle leads       User_1   \n",
       "686062  Application_1000086665  W_Complete application       User_1   \n",
       "686063  Application_1000086665               A_Concept       User_1   \n",
       "686064  Application_1000086665  W_Complete application      User_14   \n",
       "686065  Application_1000086665  W_Complete application      User_14   \n",
       "686066  Application_1000086665              A_Accepted       User_5   \n",
       "686067  Application_1000086665          O_Create Offer       User_5   \n",
       "\n",
       "                         time:timestamp  \n",
       "686058 2016-08-03 15:57:21.673000+00:00  \n",
       "686059 2016-08-03 15:57:21.734000+00:00  \n",
       "686060 2016-08-03 15:57:21.963000+00:00  \n",
       "686061 2016-08-03 15:58:28.286000+00:00  \n",
       "686062 2016-08-03 15:58:28.293000+00:00  \n",
       "686063 2016-08-03 15:58:28.299000+00:00  \n",
       "686064 2016-08-04 13:39:29.557000+00:00  \n",
       "686065 2016-08-04 13:50:12.281000+00:00  \n",
       "686066 2016-08-05 13:57:07.419000+00:00  \n",
       "686067 2016-08-05 13:59:57.320000+00:00  "
      ]
     },
     "execution_count": 8,
     "metadata": {},
     "output_type": "execute_result"
    }
   ],
   "source": [
    "# Assuming event_log is your DataFrame\n",
    "df = event_log[['case:concept:name', 'concept:name', 'org:resource', 'time:timestamp']]\n",
    "\n",
    "# Sort by 'time:timestamp' and 'case:concept:name'\n",
    "df = df.sort_values(by=['case:concept:name', 'time:timestamp'])\n",
    "\n",
    "df.head(n=10)\n"
   ]
  },
  {
   "cell_type": "code",
   "execution_count": 9,
   "id": "9a688b0f242377e9",
   "metadata": {
    "ExecuteTime": {
     "end_time": "2024-12-23T12:48:19.670749Z",
     "start_time": "2024-12-23T12:48:17.317688Z"
    }
   },
   "outputs": [],
   "source": [
    "def create_activity_resource_sequence(df, prefix_length):\n",
    "    sequences = []\n",
    "    grouped = df.groupby('case:concept:name')\n",
    "    \n",
    "    for _, group in grouped:\n",
    "        activities = group['concept:name'].tolist()\n",
    "        resources = group['org:resource'].tolist()\n",
    "        \n",
    "        # Only include sequences with length >= prefix_length\n",
    "        if len(activities) < prefix_length:\n",
    "            # Remove the sequence (skip appending it to the list)\n",
    "            continue\n",
    "        \n",
    "        # Truncate to the desired prefix length\n",
    "        current_activities = activities[:prefix_length]\n",
    "        current_resources = resources[:prefix_length]  # Include all resources\n",
    "        \n",
    "        # Combine activities and resources into tuples (no changes for the last activity)\n",
    "        sequence = []\n",
    "        for i in range(len(current_activities)):\n",
    "            # For all activities, include both activity and resource\n",
    "            sequence.append((current_activities[i], current_resources[i]))\n",
    "        \n",
    "        # Add the valid sequence to the list\n",
    "        sequences.append(sequence)\n",
    "    \n",
    "    return sequences\n",
    "\n",
    "# Example usage\n",
    "sequences = create_activity_resource_sequence(df, 4)\n",
    "\n",
    "# # Initialize a set to store unique 'R' values\n",
    "# unique_R = set()\n",
    "# \n",
    "# # Loop through the list of sequences and extract the 'R' values\n",
    "# for sequence in sequences:\n",
    "#     for item in sequence:\n",
    "#         # item[1] is the second element (the part with 'R')\n",
    "#         unique_R.add(item[1])\n",
    "# \n",
    "# # The length of the set will give the number of unique occurrences of 'R'\n",
    "# print(len(unique_R))"
   ]
  },
  {
   "cell_type": "code",
   "execution_count": 10,
   "id": "c77b67ef8b2d3ded",
   "metadata": {
    "ExecuteTime": {
     "end_time": "2024-12-23T12:49:27.001234Z",
     "start_time": "2024-12-23T12:48:27.210134Z"
    }
   },
   "outputs": [
    {
     "name": "stdout",
     "output_type": "stream",
     "text": [
      "(31509, 4, 121)\n",
      "(31509, 1, 116)\n"
     ]
    }
   ],
   "source": [
    "#Prepare the list of activities and resources\n",
    "activities = []\n",
    "resources = []\n",
    "\n",
    "# Loop through sequences to gather activities and resources\n",
    "for seq in sequences:\n",
    "    for i, item in enumerate(seq):\n",
    "        activity, resource = item  # Each item is guaranteed to be (activity, resource)\n",
    "        activities.append(activity)\n",
    "        resources.append(resource)\n",
    "\n",
    "#Fit the OneHotEncoder to the unique activities and resources\n",
    "activity_encoder = OneHotEncoder() \n",
    "resource_encoder = OneHotEncoder()\n",
    "\n",
    "# Fit the encoder on unique activities and resources\n",
    "activity_encoder.fit([[activity] for activity in set(activities)])\n",
    "resource_encoder.fit([[resource] for resource in set(resources)])\n",
    "\n",
    "#Encode activities and resources\n",
    "encoded_sequences = []\n",
    "y_encoded = []  # List to store the one-hot encoded target resource for the last activity\n",
    "\n",
    "for seq in sequences:\n",
    "    activity_onehots = []\n",
    "    \n",
    "    # For each activity-resource pair, apply one-hot encoding\n",
    "    for i, item in enumerate(seq):\n",
    "        activity, resource = item\n",
    "        activity_onehot = activity_encoder.transform([[activity]]).toarray()\n",
    "        \n",
    "        # If it's the last item, we only encode the activity and store the resource for y\n",
    "        if i == len(seq) - 1:\n",
    "            # Add only the activity one-hot encoding\n",
    "            activity_onehots.append(activity_onehot)\n",
    "            # One-hot encode the resource and store it for prediction (y)\n",
    "            resource_onehot = resource_encoder.transform([[resource]]).toarray()\n",
    "            y_encoded.append(resource_onehot)  # Store the one-hot encoded resource\n",
    "        else:\n",
    "            # For all other activities, include both activity and resource one-hot encoding\n",
    "            resource_onehot = resource_encoder.transform([[resource]]).toarray()\n",
    "            encoded_sequence = np.hstack([activity_onehot, resource_onehot])\n",
    "            activity_onehots.append(encoded_sequence)\n",
    "    \n",
    "    # If there is more than one activity in the sequence, add the zero vector for the last resource\n",
    "    if len(seq) > 1:\n",
    "        last_activity_onehot = activity_onehots[-1]\n",
    "        last_resource_onehot = np.zeros(resource_onehot.shape)  # Zero vector for the last resource\n",
    "        activity_onehots[-1] = np.hstack([last_activity_onehot, last_resource_onehot])\n",
    "    \n",
    "    # Concatenate the encoded activities and resources for the full sequence\n",
    "    encoded_sequences.append(np.vstack(activity_onehots))\n",
    "\n",
    "X = np.array(encoded_sequences)\n",
    "y = np.array(y_encoded)\n",
    "\n",
    "print(X.shape)\n",
    "\n",
    "print(y.shape)\n"
   ]
  },
  {
   "cell_type": "code",
   "execution_count": 14,
   "id": "71821fafac1eca0f",
   "metadata": {
    "ExecuteTime": {
     "end_time": "2024-12-23T13:19:17.855950Z",
     "start_time": "2024-12-23T13:18:52.727291Z"
    }
   },
   "outputs": [
    {
     "name": "stdout",
     "output_type": "stream",
     "text": [
      "(6302, 4, 121)\n",
      "(6302, 116)\n",
      "Epoch 1/10\n"
     ]
    },
    {
     "name": "stderr",
     "output_type": "stream",
     "text": [
      "/Library/Python/3.9/site-packages/keras/src/layers/rnn/rnn.py:200: UserWarning: Do not pass an `input_shape`/`input_dim` argument to a layer. When using Sequential models, prefer using an `Input(shape)` object as the first layer in the model instead.\n",
      "  super().__init__(**kwargs)\n"
     ]
    },
    {
     "name": "stdout",
     "output_type": "stream",
     "text": [
      "\u001b[1m788/788\u001b[0m \u001b[32m━━━━━━━━━━━━━━━━━━━━\u001b[0m\u001b[37m\u001b[0m \u001b[1m4s\u001b[0m 2ms/step - accuracy: 0.6296 - loss: 2.3113 - precision: 0.7887 - recall: 0.5013 - val_accuracy: 0.8673 - val_loss: 0.8547 - val_precision: 0.8757 - val_recall: 0.8618\n",
      "Epoch 2/10\n",
      "\u001b[1m788/788\u001b[0m \u001b[32m━━━━━━━━━━━━━━━━━━━━\u001b[0m\u001b[37m\u001b[0m \u001b[1m2s\u001b[0m 2ms/step - accuracy: 0.8740 - loss: 0.7990 - precision: 0.8798 - recall: 0.8698 - val_accuracy: 0.8753 - val_loss: 0.8222 - val_precision: 0.8773 - val_recall: 0.8748\n",
      "Epoch 3/10\n",
      "\u001b[1m788/788\u001b[0m \u001b[32m━━━━━━━━━━━━━━━━━━━━\u001b[0m\u001b[37m\u001b[0m \u001b[1m2s\u001b[0m 2ms/step - accuracy: 0.8845 - loss: 0.7384 - precision: 0.8859 - recall: 0.8838 - val_accuracy: 0.8765 - val_loss: 0.7880 - val_precision: 0.8775 - val_recall: 0.8764\n",
      "Epoch 4/10\n",
      "\u001b[1m788/788\u001b[0m \u001b[32m━━━━━━━━━━━━━━━━━━━━\u001b[0m\u001b[37m\u001b[0m \u001b[1m2s\u001b[0m 2ms/step - accuracy: 0.8834 - loss: 0.7404 - precision: 0.8838 - recall: 0.8831 - val_accuracy: 0.8765 - val_loss: 0.7927 - val_precision: 0.8775 - val_recall: 0.8765\n",
      "Epoch 5/10\n",
      "\u001b[1m788/788\u001b[0m \u001b[32m━━━━━━━━━━━━━━━━━━━━\u001b[0m\u001b[37m\u001b[0m \u001b[1m2s\u001b[0m 2ms/step - accuracy: 0.8812 - loss: 0.7521 - precision: 0.8815 - recall: 0.8810 - val_accuracy: 0.8767 - val_loss: 0.7803 - val_precision: 0.8775 - val_recall: 0.8765\n",
      "Epoch 6/10\n",
      "\u001b[1m788/788\u001b[0m \u001b[32m━━━━━━━━━━━━━━━━━━━━\u001b[0m\u001b[37m\u001b[0m \u001b[1m2s\u001b[0m 3ms/step - accuracy: 0.8837 - loss: 0.7327 - precision: 0.8841 - recall: 0.8835 - val_accuracy: 0.8770 - val_loss: 0.7935 - val_precision: 0.8775 - val_recall: 0.8767\n",
      "Epoch 7/10\n",
      "\u001b[1m788/788\u001b[0m \u001b[32m━━━━━━━━━━━━━━━━━━━━\u001b[0m\u001b[37m\u001b[0m \u001b[1m3s\u001b[0m 4ms/step - accuracy: 0.8816 - loss: 0.7464 - precision: 0.8817 - recall: 0.8816 - val_accuracy: 0.8775 - val_loss: 0.7789 - val_precision: 0.8776 - val_recall: 0.8770\n",
      "Epoch 8/10\n",
      "\u001b[1m788/788\u001b[0m \u001b[32m━━━━━━━━━━━━━━━━━━━━\u001b[0m\u001b[37m\u001b[0m \u001b[1m3s\u001b[0m 4ms/step - accuracy: 0.8797 - loss: 0.7560 - precision: 0.8797 - recall: 0.8796 - val_accuracy: 0.8777 - val_loss: 0.7832 - val_precision: 0.8777 - val_recall: 0.8777\n",
      "Epoch 9/10\n",
      "\u001b[1m788/788\u001b[0m \u001b[32m━━━━━━━━━━━━━━━━━━━━\u001b[0m\u001b[37m\u001b[0m \u001b[1m3s\u001b[0m 4ms/step - accuracy: 0.8810 - loss: 0.7488 - precision: 0.8810 - recall: 0.8810 - val_accuracy: 0.8777 - val_loss: 0.7776 - val_precision: 0.8777 - val_recall: 0.8777\n",
      "Epoch 10/10\n",
      "\u001b[1m788/788\u001b[0m \u001b[32m━━━━━━━━━━━━━━━━━━━━\u001b[0m\u001b[37m\u001b[0m \u001b[1m3s\u001b[0m 4ms/step - accuracy: 0.8819 - loss: 0.7458 - precision: 0.8819 - recall: 0.8819 - val_accuracy: 0.8777 - val_loss: 0.7765 - val_precision: 0.8777 - val_recall: 0.8777\n",
      "\u001b[1m197/197\u001b[0m \u001b[32m━━━━━━━━━━━━━━━━━━━━\u001b[0m\u001b[37m\u001b[0m \u001b[1m0s\u001b[0m 1ms/step - accuracy: 0.8781 - loss: 0.7734 - precision: 0.8781 - recall: 0.8781  \n",
      "Test loss: 0.7764793634414673\n",
      "Test accuracy: 0.8776578903198242\n",
      "Test precision: 0.8776578903198242\n",
      "Test recall: 0.8776578903198242\n"
     ]
    }
   ],
   "source": [
    "# Train-test split\n",
    "X_train, X_test, y_train, y_test = train_test_split(X, y, test_size=0.2, random_state=42)\n",
    "\n",
    "y_train = y_train.squeeze(axis=1)\n",
    "y_test = y_test.squeeze(axis=1)\n",
    "\n",
    "print(X_test.shape)\n",
    "print(y_test.shape)\n",
    "\n",
    "\n",
    "# Define the LSTM model\n",
    "model = Sequential()\n",
    "model.add(LSTM(50, activation='relu', return_sequences=True, input_shape=(X_train.shape[1], X_train.shape[2])))\n",
    "model.add(LSTM(50, activation='relu'))\n",
    "model.add(Dense(116, activation='softmax')) \n",
    "\n",
    "# Compile the model\n",
    "model.compile(optimizer='adam', loss='categorical_crossentropy', metrics=['accuracy', 'precision', 'recall'])\n",
    "\n",
    "# Train the model\n",
    "model.fit(X_train, y_train, epochs=10, batch_size=32, validation_data=(X_test, y_test))\n",
    "\n",
    "# Evaluate the model on the test set\n",
    "test_loss, test_accuracy, test_precision, test_recall = model.evaluate(X_test, y_test)\n",
    "print(f\"Test loss: {test_loss}\")\n",
    "print(f\"Test accuracy: {test_accuracy}\")\n",
    "print(f\"Test precision: {test_precision}\")\n",
    "print(f\"Test recall: {test_recall}\")\n",
    "\n"
   ]
  }
 ],
 "metadata": {
  "kernelspec": {
   "display_name": "Python 3 (ipykernel)",
   "language": "python",
   "name": "python3"
  },
  "language_info": {
   "codemirror_mode": {
    "name": "ipython",
    "version": 3
   },
   "file_extension": ".py",
   "mimetype": "text/x-python",
   "name": "python",
   "nbconvert_exporter": "python",
   "pygments_lexer": "ipython3",
   "version": "3.9.6"
  }
 },
 "nbformat": 4,
 "nbformat_minor": 5
}
